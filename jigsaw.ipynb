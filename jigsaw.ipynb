{
 "cells": [
  {
   "cell_type": "code",
   "execution_count": 110,
   "id": "d6056ac4",
   "metadata": {},
   "outputs": [],
   "source": [
    "import pandas as pd\n",
    "import numpy as np\n",
    "import matplotlib.pyplot as plt"
   ]
  },
  {
   "cell_type": "code",
   "execution_count": 84,
   "id": "0c25d012",
   "metadata": {},
   "outputs": [],
   "source": [
    "import torch\n",
    "from torch import nn\n",
    "import torchtext; torchtext.disable_torchtext_deprecation_warning()\n",
    "from torch.utils.data import DataLoader\n",
    "from torchtext.data.utils import get_tokenizer\n",
    "from torchtext.vocab import build_vocab_from_iterator\n",
    "from torchtext.transforms import Sequential, ToTensor, VocabTransform\n",
    "\n",
    "from sklearn.model_selection import train_test_split"
   ]
  },
  {
   "cell_type": "code",
   "execution_count": null,
   "id": "e1953a17",
   "metadata": {},
   "outputs": [],
   "source": [
    "train = pd.read_csv('./train.csv')\n",
    "test = pd.read_csv('./test.csv')\n",
    "# train = pd.read_csv('/kaggle/input/jigsaw-agile-community-rules/train.csv')\n",
    "# test = pd.read_csv('/kaggle/input/jigsaw-agile-community-rules/test.csv')"
   ]
  },
  {
   "cell_type": "code",
   "execution_count": 29,
   "id": "356b6fce",
   "metadata": {},
   "outputs": [
    {
     "data": {
      "text/plain": [
       "Index(['row_id', 'body', 'rule', 'subreddit', 'positive_example_1',\n",
       "       'positive_example_2', 'negative_example_1', 'negative_example_2',\n",
       "       'rule_violation'],\n",
       "      dtype='object')"
      ]
     },
     "execution_count": 29,
     "metadata": {},
     "output_type": "execute_result"
    }
   ],
   "source": [
    "train.keys()"
   ]
  },
  {
   "cell_type": "code",
   "execution_count": 43,
   "id": "dcea32ef",
   "metadata": {},
   "outputs": [],
   "source": [
    "def extract_examples_data(df):\n",
    "    example_col = [s for s in df.keys() if 'example' in s]\n",
    "    example_df = df[example_col].melt(\n",
    "        value_vars=example_col,\n",
    "        var_name='col',\n",
    "        value_name='body'\n",
    "    )\n",
    "    example_df['rule_violation'] = 0 if 'neg' in example_df['col'] else 1\n",
    "    example_df = example_df.drop('col', axis=1)\n",
    "    return example_df"
   ]
  },
  {
   "cell_type": "code",
   "execution_count": 85,
   "id": "ea94e4f4",
   "metadata": {},
   "outputs": [],
   "source": [
    "train_example = extract_examples_data(train)\n",
    "test_example = extract_examples_data(test)\n",
    "\n",
    "# combine example dfs with training df\n",
    "train_data = pd.concat([train[['body', 'rule_violation']], train_example, test_example], axis=0)\n",
    "\n",
    "# split into training and testing data\n",
    "train_data, test_data = train_test_split(train_data, test_size=0.2, random_state=42) \n",
    "\n",
    "# transform into list of dictionary where each have keys body and rule_violation\n",
    "train_data = train_data.to_dict(orient='records') \n",
    "test_data = test_data.to_dict(orient='records') "
   ]
  },
  {
   "cell_type": "code",
   "execution_count": 86,
   "id": "e41bfe66",
   "metadata": {},
   "outputs": [],
   "source": [
    "# tokenization and vocabulary\n",
    "tokenizer = get_tokenizer('basic_english')\n",
    "\n",
    "def yield_tokens(data):\n",
    "    for d in data:\n",
    "        yield tokenizer(d['body'])\n",
    "\n",
    "# build vocabulary from training data\n",
    "vocab = build_vocab_from_iterator(yield_tokens(train_data), specials=['<unk>'])\n",
    "vocab.set_default_index(vocab['<unk>'])"
   ]
  },
  {
   "cell_type": "code",
   "execution_count": 87,
   "id": "d7530133",
   "metadata": {},
   "outputs": [],
   "source": [
    "# text transformation: raw text -> tokens -> vocab indeces -> tensor\n",
    "vocab_transform = VocabTransform(vocab)\n",
    "to_tensor = ToTensor(padding_value=0)\n",
    "\n",
    "def text_transform(text):\n",
    "    tokens = tokenizer(text)\n",
    "    indices = vocab_transform(tokens)\n",
    "    return to_tensor(indices)"
   ]
  },
  {
   "cell_type": "code",
   "execution_count": 88,
   "id": "eab58295",
   "metadata": {},
   "outputs": [
    {
     "name": "stdout",
     "output_type": "stream",
     "text": [
      "torch.Size([5])\n"
     ]
    }
   ],
   "source": [
    "print(text_transform(\"This is an example.\").shape)"
   ]
  },
  {
   "cell_type": "code",
   "execution_count": 90,
   "id": "cd650061",
   "metadata": {},
   "outputs": [],
   "source": [
    "# create datasets and dataloaders\n",
    "def batching(batch):\n",
    "    texts, labels=[],[]\n",
    "    for sample in batch:\n",
    "        processed_text = torch.tensor(vocab(tokenizer(sample['body'])), dtype=torch.int64)\n",
    "        texts.append(processed_text)\n",
    "        labels.append(sample['rule_violation'])\n",
    "\n",
    "    # pad to equal length\n",
    "    texts = nn.utils.rnn.pad_sequence(texts, batch_first=True)\n",
    "    labels = torch.tensor(labels, dtype=torch.float32)\n",
    "    return texts, labels\n",
    "\n",
    "# split training data into training and testing data\n",
    "train_loader = DataLoader(train_data, batch_size=32, collate_fn=batching)\n",
    "test_loader = DataLoader(test_data, batch_size=32, collate_fn=batching)"
   ]
  },
  {
   "cell_type": "code",
   "execution_count": 91,
   "id": "57346bba",
   "metadata": {},
   "outputs": [],
   "source": [
    "# define NN\n",
    "class RuleClassifier(nn.Module):\n",
    "    def __init__(self, vocab_size, embed_dim=64):\n",
    "        super().__init__()\n",
    "        self.embedding = nn.Embedding(vocab_size, embed_dim)\n",
    "        self.fc1 = nn.Linear(embed_dim, 8)\n",
    "        self.fc2 = nn.Linear(8, 4)\n",
    "        self.fc3 = nn.Linear(4, 2)\n",
    "        self.relu = nn.ReLU()\n",
    "        self.dropout = nn.Dropout(0.3)\n",
    "\n",
    "    def forward(self, x):\n",
    "        x = self.embedding(x)\n",
    "        x = x.mean(dim=1) # mean pooling\n",
    "        x = self.relu(self.fc1(x))\n",
    "        x = self.dropout(x)\n",
    "        x = self.relu(self.fc2(x))\n",
    "        return self.fc3(x)"
   ]
  },
  {
   "cell_type": "code",
   "execution_count": 109,
   "id": "3b483818",
   "metadata": {},
   "outputs": [
    {
     "name": "stdout",
     "output_type": "stream",
     "text": [
      "Epoch 0, Loss: 167.4918\n",
      "Epoch 1, Loss: 94.4890\n",
      "Epoch 2, Loss: 86.1126\n",
      "Epoch 3, Loss: 82.6754\n",
      "Epoch 4, Loss: 80.7132\n",
      "Epoch 5, Loss: 79.8182\n",
      "Epoch 6, Loss: 78.7325\n",
      "Epoch 7, Loss: 77.7193\n",
      "Epoch 8, Loss: 76.3074\n",
      "Epoch 9, Loss: 75.0154\n",
      "Epoch 10, Loss: 73.7484\n",
      "Epoch 11, Loss: 71.3508\n",
      "Epoch 12, Loss: 69.3178\n",
      "Epoch 13, Loss: 65.9892\n",
      "Epoch 14, Loss: 63.6094\n",
      "Epoch 15, Loss: 61.8838\n",
      "Epoch 16, Loss: 59.9039\n",
      "Epoch 17, Loss: 59.3232\n",
      "Epoch 18, Loss: 58.0346\n",
      "Epoch 19, Loss: 57.3662\n",
      "Epoch 20, Loss: 56.6695\n",
      "Epoch 21, Loss: 55.7967\n",
      "Epoch 22, Loss: 54.9278\n",
      "Epoch 23, Loss: 54.8238\n",
      "Epoch 24, Loss: 53.9952\n",
      "Epoch 25, Loss: 53.5442\n",
      "Epoch 26, Loss: 52.7040\n",
      "Epoch 27, Loss: 52.7614\n",
      "Epoch 28, Loss: 51.8133\n",
      "Epoch 29, Loss: 51.7786\n",
      "Epoch 30, Loss: 51.7005\n",
      "Epoch 31, Loss: 51.0251\n",
      "Epoch 32, Loss: 51.0005\n",
      "Epoch 33, Loss: 50.6331\n",
      "Epoch 34, Loss: 50.1328\n",
      "Epoch 35, Loss: 50.5917\n",
      "Epoch 36, Loss: 49.5901\n",
      "Epoch 37, Loss: 49.2528\n",
      "Epoch 38, Loss: 49.7291\n",
      "Epoch 39, Loss: 49.4504\n",
      "Epoch 40, Loss: 49.6972\n",
      "Epoch 41, Loss: 49.4073\n",
      "Epoch 42, Loss: 49.0926\n",
      "Epoch 43, Loss: 48.8977\n",
      "Epoch 44, Loss: 48.6844\n",
      "Epoch 45, Loss: 48.3885\n",
      "Epoch 46, Loss: 48.1425\n",
      "Epoch 47, Loss: 48.4132\n",
      "Epoch 48, Loss: 48.4012\n",
      "Epoch 49, Loss: 48.7192\n"
     ]
    }
   ],
   "source": [
    "# train model\n",
    "model = RuleClassifier(len(vocab))\n",
    "criterion = nn.CrossEntropyLoss()\n",
    "optimizer = torch.optim.Adam(model.parameters(), lr=1e-3)\n",
    "\n",
    "num_epochs = 50\n",
    "train_losses = []\n",
    "\n",
    "for epoch in range(num_epochs):\n",
    "    model.train()\n",
    "    total_loss = 0\n",
    "    try:\n",
    "        for texts, labels in train_loader:\n",
    "            optimizer.zero_grad()\n",
    "            outputs = model(texts)\n",
    "            loss = criterion(outputs, labels.long())\n",
    "            loss.backward()\n",
    "            optimizer.step()\n",
    "            total_loss += loss.item()\n",
    "            \n",
    "        epoch_loss = total_loss / len(train_loader)\n",
    "        train_losses.append(epoch_loss)\n",
    "        print(f'Epoch {epoch}, Loss: {total_loss:.4f}')\n",
    "    except Exception as e:\n",
    "        print('iter error:', e)"
   ]
  },
  {
   "cell_type": "code",
   "execution_count": 95,
   "id": "2a0ce942",
   "metadata": {},
   "outputs": [
    {
     "name": "stdout",
     "output_type": "stream",
     "text": [
      "Accuracy: 89.59%\n"
     ]
    }
   ],
   "source": [
    "# evaluation\n",
    "model.eval()\n",
    "correct, total = 0, 0\n",
    "with torch.no_grad():\n",
    "    for texts, labels in test_loader:\n",
    "        outputs = model(texts)\n",
    "        predicted = torch.argmax(outputs, dim=1)\n",
    "        correct += (predicted == labels).sum().item()\n",
    "        total += labels.size(0)\n",
    "print(f'Accuracy: {correct / total:.2%}')"
   ]
  },
  {
   "cell_type": "code",
   "execution_count": 111,
   "id": "fe88ebac",
   "metadata": {},
   "outputs": [
    {
     "data": {
      "image/png": "[encoded data removed]",
      "text/plain": [
       "<Figure size 800x500 with 1 Axes>"
      ]
     },
     "metadata": {},
     "output_type": "display_data"
    }
   ],
   "source": [
    "plt.figure(figsize=(8, 5))\n",
    "plt.plot(range(1, num_epochs + 1), train_losses, marker='o')\n",
    "plt.title(\"Training Loss over Epochs\")\n",
    "plt.xlabel(\"Epoch\")\n",
    "plt.ylabel(\"Loss\")\n",
    "plt.grid(True)\n",
    "plt.show()"
   ]
  },
  {
   "cell_type": "code",
   "execution_count": 119,
   "id": "872706b5",
   "metadata": {},
   "outputs": [],
   "source": [
    "# make prediction\n",
    "test_df = test[['body']].to_dict(orient='records') "
   ]
  },
  {
   "cell_type": "code",
   "execution_count": 122,
   "id": "fc408fcd",
   "metadata": {},
   "outputs": [],
   "source": [
    "# Apply text_transform to each sample\n",
    "processed_texts = [text_transform(item['body']) for item in test_df]"
   ]
  },
  {
   "cell_type": "code",
   "execution_count": 126,
   "id": "3e1756ee",
   "metadata": {},
   "outputs": [],
   "source": [
    "from torch.nn.utils.rnn import pad_sequence\n",
    "batch_inputs = pad_sequence(processed_texts, batch_first=True)"
   ]
  },
  {
   "cell_type": "code",
   "execution_count": 127,
   "id": "c92721d0",
   "metadata": {},
   "outputs": [],
   "source": [
    "model.eval()\n",
    "with torch.no_grad():\n",
    "    outputs = model(batch_inputs)\n",
    "    probs = torch.softmax(outputs, dim=1)\n",
    "    preds = torch.argmax(probs, dim=1)"
   ]
  },
  {
   "cell_type": "code",
   "execution_count": null,
   "id": "4698ab04",
   "metadata": {},
   "outputs": [],
   "source": [
    "submission = pd.DataFrame({'row_id': test['row_id'], 'rule_violation': preds.numpy()})\n",
    "submission.to_csv('./submission.csv')\n",
    "# y_submit.to_csv('/kaggle/working/submission.csv')"
   ]
  },
  {
   "cell_type": "code",
   "execution_count": null,
   "id": "f1520ef2",
   "metadata": {},
   "outputs": [],
   "source": []
  }
 ],
 "metadata": {
  "kernelspec": {
   "display_name": "jigsaw",
   "language": "python",
   "name": "python3"
  },
  "language_info": {
   "codemirror_mode": {
    "name": "ipython",
    "version": 3
   },
   "file_extension": ".py",
   "mimetype": "text/x-python",
   "name": "python",
   "nbconvert_exporter": "python",
   "pygments_lexer": "ipython3",
   "version": "3.11.13"
  }
 },
 "nbformat": 4,
 "nbformat_minor": 5
}
