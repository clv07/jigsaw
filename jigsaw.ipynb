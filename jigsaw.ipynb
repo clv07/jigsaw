{
 "cells": [
  {
   "cell_type": "code",
   "execution_count": 1,
   "id": "ed0a54eb",
   "metadata": {
    "execution": {
     "iopub.execute_input": "2025-10-08T00:37:36.240598Z",
     "iopub.status.busy": "2025-10-08T00:37:36.240276Z",
     "iopub.status.idle": "2025-10-08T00:37:38.097281Z",
     "shell.execute_reply": "2025-10-08T00:37:38.096355Z"
    },
    "papermill": {
     "duration": 1.868877,
     "end_time": "2025-10-08T00:37:38.099041",
     "exception": false,
     "start_time": "2025-10-08T00:37:36.230164",
     "status": "completed"
    },
    "tags": []
   },
   "outputs": [],
   "source": [
    "import pandas as pd\n",
    "import numpy as np"
   ]
  },
  {
   "cell_type": "code",
   "execution_count": 2,
   "id": "159ce140",
   "metadata": {
    "execution": {
     "iopub.execute_input": "2025-10-08T00:37:38.116977Z",
     "iopub.status.busy": "2025-10-08T00:37:38.116562Z",
     "iopub.status.idle": "2025-10-08T00:37:38.199512Z",
     "shell.execute_reply": "2025-10-08T00:37:38.198566Z"
    },
    "papermill": {
     "duration": 0.093529,
     "end_time": "2025-10-08T00:37:38.201182",
     "exception": false,
     "start_time": "2025-10-08T00:37:38.107653",
     "status": "completed"
    },
    "tags": []
   },
   "outputs": [],
   "source": [
    "train = pd.read_csv('/kaggle/input/jigsaw-agile-community-rules/train.csv')\n",
    "test = pd.read_csv('/kaggle/input/jigsaw-agile-community-rules/test.csv')"
   ]
  },
  {
   "cell_type": "code",
   "execution_count": 3,
   "id": "8b3ae766",
   "metadata": {
    "execution": {
     "iopub.execute_input": "2025-10-08T00:37:38.218590Z",
     "iopub.status.busy": "2025-10-08T00:37:38.218273Z",
     "iopub.status.idle": "2025-10-08T00:37:38.226172Z",
     "shell.execute_reply": "2025-10-08T00:37:38.225424Z"
    },
    "papermill": {
     "duration": 0.018123,
     "end_time": "2025-10-08T00:37:38.227541",
     "exception": false,
     "start_time": "2025-10-08T00:37:38.209418",
     "status": "completed"
    },
    "tags": []
   },
   "outputs": [
    {
     "data": {
      "text/plain": [
       "Index(['row_id', 'body', 'rule', 'subreddit', 'positive_example_1',\n",
       "       'positive_example_2', 'negative_example_1', 'negative_example_2',\n",
       "       'rule_violation'],\n",
       "      dtype='object')"
      ]
     },
     "execution_count": 3,
     "metadata": {},
     "output_type": "execute_result"
    }
   ],
   "source": [
    "train.keys()"
   ]
  },
  {
   "cell_type": "code",
   "execution_count": 4,
   "id": "6ac6a106",
   "metadata": {
    "execution": {
     "iopub.execute_input": "2025-10-08T00:37:38.244802Z",
     "iopub.status.busy": "2025-10-08T00:37:38.244500Z",
     "iopub.status.idle": "2025-10-08T00:37:38.277821Z",
     "shell.execute_reply": "2025-10-08T00:37:38.276918Z"
    },
    "papermill": {
     "duration": 0.043826,
     "end_time": "2025-10-08T00:37:38.279435",
     "exception": false,
     "start_time": "2025-10-08T00:37:38.235609",
     "status": "completed"
    },
    "tags": []
   },
   "outputs": [
    {
     "data": {
      "text/html": [
       "<div>\n",
       "<style scoped>\n",
       "    .dataframe tbody tr th:only-of-type {\n",
       "        vertical-align: middle;\n",
       "    }\n",
       "\n",
       "    .dataframe tbody tr th {\n",
       "        vertical-align: top;\n",
       "    }\n",
       "\n",
       "    .dataframe thead th {\n",
       "        text-align: right;\n",
       "    }\n",
       "</style>\n",
       "<table border=\"1\" class=\"dataframe\">\n",
       "  <thead>\n",
       "    <tr style=\"text-align: right;\">\n",
       "      <th></th>\n",
       "      <th>row_id</th>\n",
       "      <th>rule_violation</th>\n",
       "    </tr>\n",
       "  </thead>\n",
       "  <tbody>\n",
       "    <tr>\n",
       "      <th>count</th>\n",
       "      <td>2029.000000</td>\n",
       "      <td>2029.000000</td>\n",
       "    </tr>\n",
       "    <tr>\n",
       "      <th>mean</th>\n",
       "      <td>1014.000000</td>\n",
       "      <td>0.508132</td>\n",
       "    </tr>\n",
       "    <tr>\n",
       "      <th>std</th>\n",
       "      <td>585.866168</td>\n",
       "      <td>0.500057</td>\n",
       "    </tr>\n",
       "    <tr>\n",
       "      <th>min</th>\n",
       "      <td>0.000000</td>\n",
       "      <td>0.000000</td>\n",
       "    </tr>\n",
       "    <tr>\n",
       "      <th>25%</th>\n",
       "      <td>507.000000</td>\n",
       "      <td>0.000000</td>\n",
       "    </tr>\n",
       "    <tr>\n",
       "      <th>50%</th>\n",
       "      <td>1014.000000</td>\n",
       "      <td>1.000000</td>\n",
       "    </tr>\n",
       "    <tr>\n",
       "      <th>75%</th>\n",
       "      <td>1521.000000</td>\n",
       "      <td>1.000000</td>\n",
       "    </tr>\n",
       "    <tr>\n",
       "      <th>max</th>\n",
       "      <td>2028.000000</td>\n",
       "      <td>1.000000</td>\n",
       "    </tr>\n",
       "  </tbody>\n",
       "</table>\n",
       "</div>"
      ],
      "text/plain": [
       "            row_id  rule_violation\n",
       "count  2029.000000     2029.000000\n",
       "mean   1014.000000        0.508132\n",
       "std     585.866168        0.500057\n",
       "min       0.000000        0.000000\n",
       "25%     507.000000        0.000000\n",
       "50%    1014.000000        1.000000\n",
       "75%    1521.000000        1.000000\n",
       "max    2028.000000        1.000000"
      ]
     },
     "execution_count": 4,
     "metadata": {},
     "output_type": "execute_result"
    }
   ],
   "source": [
    "train.describe()"
   ]
  },
  {
   "cell_type": "code",
   "execution_count": 5,
   "id": "aa5b2f50",
   "metadata": {
    "execution": {
     "iopub.execute_input": "2025-10-08T00:37:38.297215Z",
     "iopub.status.busy": "2025-10-08T00:37:38.296910Z",
     "iopub.status.idle": "2025-10-08T00:37:38.304639Z",
     "shell.execute_reply": "2025-10-08T00:37:38.303876Z"
    },
    "papermill": {
     "duration": 0.018033,
     "end_time": "2025-10-08T00:37:38.305947",
     "exception": false,
     "start_time": "2025-10-08T00:37:38.287914",
     "status": "completed"
    },
    "tags": []
   },
   "outputs": [],
   "source": [
    "violated_reddit = train[train.rule_violation == 1]"
   ]
  },
  {
   "cell_type": "code",
   "execution_count": 6,
   "id": "ffe51e0e",
   "metadata": {
    "execution": {
     "iopub.execute_input": "2025-10-08T00:37:38.323774Z",
     "iopub.status.busy": "2025-10-08T00:37:38.323458Z",
     "iopub.status.idle": "2025-10-08T00:37:38.329317Z",
     "shell.execute_reply": "2025-10-08T00:37:38.328528Z"
    },
    "papermill": {
     "duration": 0.01626,
     "end_time": "2025-10-08T00:37:38.330772",
     "exception": false,
     "start_time": "2025-10-08T00:37:38.314512",
     "status": "completed"
    },
    "tags": []
   },
   "outputs": [
    {
     "data": {
      "text/plain": [
       "'No legal advice: Do not offer or request legal advice.'"
      ]
     },
     "execution_count": 6,
     "metadata": {},
     "output_type": "execute_result"
    }
   ],
   "source": [
    "violated_reddit.iloc[0].rule"
   ]
  },
  {
   "cell_type": "code",
   "execution_count": 7,
   "id": "9ed00e9d",
   "metadata": {
    "execution": {
     "iopub.execute_input": "2025-10-08T00:37:38.349290Z",
     "iopub.status.busy": "2025-10-08T00:37:38.349007Z",
     "iopub.status.idle": "2025-10-08T00:37:38.352790Z",
     "shell.execute_reply": "2025-10-08T00:37:38.352015Z"
    },
    "papermill": {
     "duration": 0.014934,
     "end_time": "2025-10-08T00:37:38.354250",
     "exception": false,
     "start_time": "2025-10-08T00:37:38.339316",
     "status": "completed"
    },
    "tags": []
   },
   "outputs": [],
   "source": [
    "# do feature extraction and sentimental analysis for positive and negative example 1 and 2\n",
    "# associate which keyword from column body and subreddit is related to the rule column (only two rules)"
   ]
  },
  {
   "cell_type": "code",
   "execution_count": 8,
   "id": "61005a4c",
   "metadata": {
    "execution": {
     "iopub.execute_input": "2025-10-08T00:37:38.372269Z",
     "iopub.status.busy": "2025-10-08T00:37:38.371614Z",
     "iopub.status.idle": "2025-10-08T00:37:38.378424Z",
     "shell.execute_reply": "2025-10-08T00:37:38.377549Z"
    },
    "papermill": {
     "duration": 0.017231,
     "end_time": "2025-10-08T00:37:38.379829",
     "exception": false,
     "start_time": "2025-10-08T00:37:38.362598",
     "status": "completed"
    },
    "tags": []
   },
   "outputs": [
    {
     "data": {
      "text/plain": [
       "row_id                                                                0\n",
       "body                  Banks don't want you to know this! Click here ...\n",
       "rule                  No Advertising: Spam, referral links, unsolici...\n",
       "subreddit                                                    Futurology\n",
       "positive_example_1    If you could tell your younger self something ...\n",
       "positive_example_2    hunt for lady for jack off in neighbourhood ht...\n",
       "negative_example_1    Watch Golden Globe Awards 2017 Live Online in ...\n",
       "negative_example_2    DOUBLE CEE x BANDS EPPS - \"BIRDS\"\\n\\nDOWNLOAD/...\n",
       "rule_violation                                                        0\n",
       "Name: 0, dtype: object"
      ]
     },
     "execution_count": 8,
     "metadata": {},
     "output_type": "execute_result"
    }
   ],
   "source": [
    "train.iloc[0]"
   ]
  },
  {
   "cell_type": "code",
   "execution_count": 9,
   "id": "ae80c27c",
   "metadata": {
    "execution": {
     "iopub.execute_input": "2025-10-08T00:37:38.398981Z",
     "iopub.status.busy": "2025-10-08T00:37:38.398352Z",
     "iopub.status.idle": "2025-10-08T00:37:38.404356Z",
     "shell.execute_reply": "2025-10-08T00:37:38.403492Z"
    },
    "papermill": {
     "duration": 0.016806,
     "end_time": "2025-10-08T00:37:38.405829",
     "exception": false,
     "start_time": "2025-10-08T00:37:38.389023",
     "status": "completed"
    },
    "tags": []
   },
   "outputs": [
    {
     "data": {
      "text/plain": [
       "\"Banks don't want you to know this! Click here to know more!\""
      ]
     },
     "execution_count": 9,
     "metadata": {},
     "output_type": "execute_result"
    }
   ],
   "source": [
    "train.iloc[0]['body']"
   ]
  },
  {
   "cell_type": "code",
   "execution_count": 10,
   "id": "b81f35b4",
   "metadata": {
    "execution": {
     "iopub.execute_input": "2025-10-08T00:37:38.424409Z",
     "iopub.status.busy": "2025-10-08T00:37:38.423608Z",
     "iopub.status.idle": "2025-10-08T00:37:38.429518Z",
     "shell.execute_reply": "2025-10-08T00:37:38.428625Z"
    },
    "papermill": {
     "duration": 0.016479,
     "end_time": "2025-10-08T00:37:38.430846",
     "exception": false,
     "start_time": "2025-10-08T00:37:38.414367",
     "status": "completed"
    },
    "tags": []
   },
   "outputs": [
    {
     "data": {
      "text/plain": [
       "'If you could tell your younger self something different about sex, what would that be?\\n\\ni AM IN A CONTEST TO WIN FUNDING FOR MY SEX POSITIVE FILM: VOTE HERE:\\n\\nhttp://sheknows.offerpop.com/campaign/813112/entry/v144417'"
      ]
     },
     "execution_count": 10,
     "metadata": {},
     "output_type": "execute_result"
    }
   ],
   "source": [
    "train.iloc[0]['positive_example_1']"
   ]
  },
  {
   "cell_type": "code",
   "execution_count": 11,
   "id": "03d20d1e",
   "metadata": {
    "execution": {
     "iopub.execute_input": "2025-10-08T00:37:38.449979Z",
     "iopub.status.busy": "2025-10-08T00:37:38.449081Z",
     "iopub.status.idle": "2025-10-08T00:37:38.454844Z",
     "shell.execute_reply": "2025-10-08T00:37:38.454081Z"
    },
    "papermill": {
     "duration": 0.016883,
     "end_time": "2025-10-08T00:37:38.456417",
     "exception": false,
     "start_time": "2025-10-08T00:37:38.439534",
     "status": "completed"
    },
    "tags": []
   },
   "outputs": [
    {
     "data": {
      "text/plain": [
       "'hunt for lady for jack off in neighbourhood http://url.inmusi.com/gakq'"
      ]
     },
     "execution_count": 11,
     "metadata": {},
     "output_type": "execute_result"
    }
   ],
   "source": [
    "train.iloc[0]['positive_example_2']\n"
   ]
  },
  {
   "cell_type": "code",
   "execution_count": 12,
   "id": "f5f40e93",
   "metadata": {
    "execution": {
     "iopub.execute_input": "2025-10-08T00:37:38.476580Z",
     "iopub.status.busy": "2025-10-08T00:37:38.475733Z",
     "iopub.status.idle": "2025-10-08T00:37:38.481937Z",
     "shell.execute_reply": "2025-10-08T00:37:38.481116Z"
    },
    "papermill": {
     "duration": 0.017033,
     "end_time": "2025-10-08T00:37:38.483323",
     "exception": false,
     "start_time": "2025-10-08T00:37:38.466290",
     "status": "completed"
    },
    "tags": []
   },
   "outputs": [
    {
     "data": {
      "text/plain": [
       "'Watch Golden Globe Awards 2017 Live Online in HD Coverage without ADS (VIP STREAMS)\\n=\\n\\nHD STREAM QUALITY >>> [WATCH LINK1](http://forum.submitexpress.com/viewtopic.php?f=9&t=215858)\\n=\\n\\nHD BROADCASTING QUALITY >>> [WATCH LINK1](http://forum.submitexpress.com/viewtopic.php?f=9&t=215858)\\n=\\n\\nMobile Compatibility: YES\\n=\\n\\nNO ADS | NO ADS | ADS\\n=\\n'"
      ]
     },
     "execution_count": 12,
     "metadata": {},
     "output_type": "execute_result"
    }
   ],
   "source": [
    "train.iloc[0]['negative_example_1']"
   ]
  },
  {
   "cell_type": "code",
   "execution_count": 13,
   "id": "0f69d487",
   "metadata": {
    "execution": {
     "iopub.execute_input": "2025-10-08T00:37:38.501985Z",
     "iopub.status.busy": "2025-10-08T00:37:38.501363Z",
     "iopub.status.idle": "2025-10-08T00:37:38.506966Z",
     "shell.execute_reply": "2025-10-08T00:37:38.506146Z"
    },
    "papermill": {
     "duration": 0.016266,
     "end_time": "2025-10-08T00:37:38.508307",
     "exception": false,
     "start_time": "2025-10-08T00:37:38.492041",
     "status": "completed"
    },
    "tags": []
   },
   "outputs": [
    {
     "data": {
      "text/plain": [
       "'DOUBLE CEE x BANDS EPPS - \"BIRDS\"\\n\\nDOWNLOAD/STREAM:\\n\\nhttp://music.theblacksmithed.com/download/birds/'"
      ]
     },
     "execution_count": 13,
     "metadata": {},
     "output_type": "execute_result"
    }
   ],
   "source": [
    "train.iloc[0]['negative_example_2']"
   ]
  },
  {
   "cell_type": "code",
   "execution_count": 14,
   "id": "bb3c7d82",
   "metadata": {
    "execution": {
     "iopub.execute_input": "2025-10-08T00:37:38.527518Z",
     "iopub.status.busy": "2025-10-08T00:37:38.527195Z",
     "iopub.status.idle": "2025-10-08T00:37:40.743308Z",
     "shell.execute_reply": "2025-10-08T00:37:40.742597Z"
    },
    "papermill": {
     "duration": 2.227747,
     "end_time": "2025-10-08T00:37:40.744962",
     "exception": false,
     "start_time": "2025-10-08T00:37:38.517215",
     "status": "completed"
    },
    "tags": []
   },
   "outputs": [],
   "source": [
    "import re\n",
    "import nltk\n",
    "from nltk.corpus import stopwords\n",
    "from nltk.tokenize import word_tokenize\n",
    "from nltk.sentiment import SentimentIntensityAnalyzer"
   ]
  },
  {
   "cell_type": "markdown",
   "id": "95a39830",
   "metadata": {
    "papermill": {
     "duration": 0.008278,
     "end_time": "2025-10-08T00:37:40.762189",
     "exception": false,
     "start_time": "2025-10-08T00:37:40.753911",
     "status": "completed"
    },
    "tags": []
   },
   "source": [
    "## preprocess training datasets"
   ]
  },
  {
   "cell_type": "code",
   "execution_count": 15,
   "id": "768a3449",
   "metadata": {
    "execution": {
     "iopub.execute_input": "2025-10-08T00:37:40.780530Z",
     "iopub.status.busy": "2025-10-08T00:37:40.780081Z",
     "iopub.status.idle": "2025-10-08T00:37:40.785250Z",
     "shell.execute_reply": "2025-10-08T00:37:40.784368Z"
    },
    "papermill": {
     "duration": 0.016001,
     "end_time": "2025-10-08T00:37:40.786680",
     "exception": false,
     "start_time": "2025-10-08T00:37:40.770679",
     "status": "completed"
    },
    "tags": []
   },
   "outputs": [],
   "source": [
    "def preprocess(text):\n",
    "    text = text.lower()\n",
    "    text = re.sub(r'http\\S+', '', text)  # remove URLs\n",
    "    text = re.sub(r'[^a-z\\s]', '', text) # keep only letters\n",
    "    tokens = word_tokenize(text)\n",
    "    tokens = [w for w in tokens if w not in stopwords.words('english')]  # remove stop words\n",
    "    return ' '.join(tokens)   "
   ]
  },
  {
   "cell_type": "code",
   "execution_count": 16,
   "id": "b308c239",
   "metadata": {
    "execution": {
     "iopub.execute_input": "2025-10-08T00:37:40.805594Z",
     "iopub.status.busy": "2025-10-08T00:37:40.805248Z",
     "iopub.status.idle": "2025-10-08T00:37:40.809723Z",
     "shell.execute_reply": "2025-10-08T00:37:40.809048Z"
    },
    "papermill": {
     "duration": 0.015362,
     "end_time": "2025-10-08T00:37:40.811084",
     "exception": false,
     "start_time": "2025-10-08T00:37:40.795722",
     "status": "completed"
    },
    "tags": []
   },
   "outputs": [],
   "source": [
    "df = train.copy() # improvment: just left body column and label"
   ]
  },
  {
   "cell_type": "code",
   "execution_count": 17,
   "id": "d51e3458",
   "metadata": {
    "execution": {
     "iopub.execute_input": "2025-10-08T00:37:40.830358Z",
     "iopub.status.busy": "2025-10-08T00:37:40.829450Z",
     "iopub.status.idle": "2025-10-08T00:37:45.644377Z",
     "shell.execute_reply": "2025-10-08T00:37:45.643153Z"
    },
    "papermill": {
     "duration": 4.826333,
     "end_time": "2025-10-08T00:37:45.646117",
     "exception": false,
     "start_time": "2025-10-08T00:37:40.819784",
     "status": "completed"
    },
    "tags": []
   },
   "outputs": [],
   "source": [
    "df['body'] = df['body'].apply(preprocess)"
   ]
  },
  {
   "cell_type": "markdown",
   "id": "23ceeb17",
   "metadata": {
    "papermill": {
     "duration": 0.008553,
     "end_time": "2025-10-08T00:37:45.663757",
     "exception": false,
     "start_time": "2025-10-08T00:37:45.655204",
     "status": "completed"
    },
    "tags": []
   },
   "source": [
    "## Sentiment analysis for the body column"
   ]
  },
  {
   "cell_type": "code",
   "execution_count": 18,
   "id": "d2ba4eda",
   "metadata": {
    "execution": {
     "iopub.execute_input": "2025-10-08T00:37:45.682263Z",
     "iopub.status.busy": "2025-10-08T00:37:45.681971Z",
     "iopub.status.idle": "2025-10-08T00:37:45.702527Z",
     "shell.execute_reply": "2025-10-08T00:37:45.701758Z"
    },
    "papermill": {
     "duration": 0.031792,
     "end_time": "2025-10-08T00:37:45.704086",
     "exception": false,
     "start_time": "2025-10-08T00:37:45.672294",
     "status": "completed"
    },
    "tags": []
   },
   "outputs": [],
   "source": [
    "sia = SentimentIntensityAnalyzer()"
   ]
  },
  {
   "cell_type": "code",
   "execution_count": 19,
   "id": "b43c32b4",
   "metadata": {
    "execution": {
     "iopub.execute_input": "2025-10-08T00:37:45.722960Z",
     "iopub.status.busy": "2025-10-08T00:37:45.722664Z",
     "iopub.status.idle": "2025-10-08T00:37:46.057522Z",
     "shell.execute_reply": "2025-10-08T00:37:46.056765Z"
    },
    "papermill": {
     "duration": 0.346007,
     "end_time": "2025-10-08T00:37:46.059056",
     "exception": false,
     "start_time": "2025-10-08T00:37:45.713049",
     "status": "completed"
    },
    "tags": []
   },
   "outputs": [],
   "source": [
    "df['sentiment'] = df['body'].apply(lambda x: sia.polarity_scores(x)['compound'])"
   ]
  },
  {
   "cell_type": "markdown",
   "id": "fc367a2c",
   "metadata": {
    "papermill": {
     "duration": 0.008285,
     "end_time": "2025-10-08T00:37:46.076970",
     "exception": false,
     "start_time": "2025-10-08T00:37:46.068685",
     "status": "completed"
    },
    "tags": []
   },
   "source": [
    "## Build small training set from examples"
   ]
  },
  {
   "cell_type": "code",
   "execution_count": 20,
   "id": "b634dbf2",
   "metadata": {
    "execution": {
     "iopub.execute_input": "2025-10-08T00:37:46.095256Z",
     "iopub.status.busy": "2025-10-08T00:37:46.094956Z",
     "iopub.status.idle": "2025-10-08T00:38:05.816744Z",
     "shell.execute_reply": "2025-10-08T00:38:05.815962Z"
    },
    "papermill": {
     "duration": 19.732876,
     "end_time": "2025-10-08T00:38:05.818314",
     "exception": false,
     "start_time": "2025-10-08T00:37:46.085438",
     "status": "completed"
    },
    "tags": []
   },
   "outputs": [],
   "source": [
    "pos_eg = df[['positive_example_1', 'positive_example_2']].values.flatten()\n",
    "neg_eg = df[['negative_example_1', 'negative_example_2']].values.flatten()\n",
    "\n",
    "df_eg = pd.DataFrame({\n",
    "    'text': list(pos_eg) + list(neg_eg),\n",
    "    'label': [1] * len(pos_eg) + [0] * len(neg_eg)\n",
    "})\n",
    "\n",
    "df_eg['text'] = df_eg['text'].apply(preprocess)\n",
    "\n",
    "# sentiment analysis on small datasets\n",
    "df_eg['sentiment'] = df_eg['text'].apply(lambda x: sia.polarity_scores(x)['compound'])\n",
    "\n",
    "drop_columns = [col for col in df.keys() if col.startswith(('pos', 'neg', 'row_id'))]"
   ]
  },
  {
   "cell_type": "code",
   "execution_count": 21,
   "id": "93b12923",
   "metadata": {
    "execution": {
     "iopub.execute_input": "2025-10-08T00:38:05.836988Z",
     "iopub.status.busy": "2025-10-08T00:38:05.836672Z",
     "iopub.status.idle": "2025-10-08T00:38:05.848925Z",
     "shell.execute_reply": "2025-10-08T00:38:05.847978Z"
    },
    "papermill": {
     "duration": 0.023185,
     "end_time": "2025-10-08T00:38:05.850363",
     "exception": false,
     "start_time": "2025-10-08T00:38:05.827178",
     "status": "completed"
    },
    "tags": []
   },
   "outputs": [
    {
     "data": {
      "text/html": [
       "<div>\n",
       "<style scoped>\n",
       "    .dataframe tbody tr th:only-of-type {\n",
       "        vertical-align: middle;\n",
       "    }\n",
       "\n",
       "    .dataframe tbody tr th {\n",
       "        vertical-align: top;\n",
       "    }\n",
       "\n",
       "    .dataframe thead th {\n",
       "        text-align: right;\n",
       "    }\n",
       "</style>\n",
       "<table border=\"1\" class=\"dataframe\">\n",
       "  <thead>\n",
       "    <tr style=\"text-align: right;\">\n",
       "      <th></th>\n",
       "      <th>text</th>\n",
       "      <th>label</th>\n",
       "      <th>sentiment</th>\n",
       "    </tr>\n",
       "  </thead>\n",
       "  <tbody>\n",
       "    <tr>\n",
       "      <th>0</th>\n",
       "      <td>could tell younger self something different se...</td>\n",
       "      <td>1</td>\n",
       "      <td>0.8126</td>\n",
       "    </tr>\n",
       "    <tr>\n",
       "      <th>1</th>\n",
       "      <td>hunt lady jack neighbourhood</td>\n",
       "      <td>1</td>\n",
       "      <td>0.0000</td>\n",
       "    </tr>\n",
       "    <tr>\n",
       "      <th>2</th>\n",
       "      <td>wan na kiss stunning</td>\n",
       "      <td>1</td>\n",
       "      <td>0.6597</td>\n",
       "    </tr>\n",
       "    <tr>\n",
       "      <th>3</th>\n",
       "      <td>lolgacom one first professional online gold si...</td>\n",
       "      <td>1</td>\n",
       "      <td>0.0000</td>\n",
       "    </tr>\n",
       "    <tr>\n",
       "      <th>4</th>\n",
       "      <td>dont break call cops willing get beat stay obv...</td>\n",
       "      <td>1</td>\n",
       "      <td>0.6057</td>\n",
       "    </tr>\n",
       "    <tr>\n",
       "      <th>...</th>\n",
       "      <td>...</td>\n",
       "      <td>...</td>\n",
       "      <td>...</td>\n",
       "    </tr>\n",
       "    <tr>\n",
       "      <th>8111</th>\n",
       "      <td>great thanks sharing</td>\n",
       "      <td>0</td>\n",
       "      <td>0.8689</td>\n",
       "    </tr>\n",
       "    <tr>\n",
       "      <th>8112</th>\n",
       "      <td>cares keep raping hood</td>\n",
       "      <td>0</td>\n",
       "      <td>-0.4215</td>\n",
       "    </tr>\n",
       "    <tr>\n",
       "      <th>8113</th>\n",
       "      <td>send private message may able help</td>\n",
       "      <td>0</td>\n",
       "      <td>0.4019</td>\n",
       "    </tr>\n",
       "    <tr>\n",
       "      <th>8114</th>\n",
       "      <td>site still works jump gps faq iphone mac</td>\n",
       "      <td>0</td>\n",
       "      <td>0.0000</td>\n",
       "    </tr>\n",
       "    <tr>\n",
       "      <th>8115</th>\n",
       "      <td>steal car elderly person wont notice missing r...</td>\n",
       "      <td>0</td>\n",
       "      <td>-0.3208</td>\n",
       "    </tr>\n",
       "  </tbody>\n",
       "</table>\n",
       "<p>8116 rows × 3 columns</p>\n",
       "</div>"
      ],
      "text/plain": [
       "                                                   text  label  sentiment\n",
       "0     could tell younger self something different se...      1     0.8126\n",
       "1                          hunt lady jack neighbourhood      1     0.0000\n",
       "2                                  wan na kiss stunning      1     0.6597\n",
       "3     lolgacom one first professional online gold si...      1     0.0000\n",
       "4     dont break call cops willing get beat stay obv...      1     0.6057\n",
       "...                                                 ...    ...        ...\n",
       "8111                               great thanks sharing      0     0.8689\n",
       "8112                             cares keep raping hood      0    -0.4215\n",
       "8113                 send private message may able help      0     0.4019\n",
       "8114           site still works jump gps faq iphone mac      0     0.0000\n",
       "8115  steal car elderly person wont notice missing r...      0    -0.3208\n",
       "\n",
       "[8116 rows x 3 columns]"
      ]
     },
     "execution_count": 21,
     "metadata": {},
     "output_type": "execute_result"
    }
   ],
   "source": [
    "df_eg"
   ]
  },
  {
   "cell_type": "code",
   "execution_count": 22,
   "id": "e286f68a",
   "metadata": {
    "execution": {
     "iopub.execute_input": "2025-10-08T00:38:05.870381Z",
     "iopub.status.busy": "2025-10-08T00:38:05.869406Z",
     "iopub.status.idle": "2025-10-08T00:38:05.875024Z",
     "shell.execute_reply": "2025-10-08T00:38:05.874256Z"
    },
    "papermill": {
     "duration": 0.017055,
     "end_time": "2025-10-08T00:38:05.876672",
     "exception": false,
     "start_time": "2025-10-08T00:38:05.859617",
     "status": "completed"
    },
    "tags": []
   },
   "outputs": [],
   "source": [
    "df = df.drop(drop_columns, axis=1)"
   ]
  },
  {
   "cell_type": "code",
   "execution_count": 23,
   "id": "c4245d15",
   "metadata": {
    "execution": {
     "iopub.execute_input": "2025-10-08T00:38:05.896107Z",
     "iopub.status.busy": "2025-10-08T00:38:05.895804Z",
     "iopub.status.idle": "2025-10-08T00:38:05.906781Z",
     "shell.execute_reply": "2025-10-08T00:38:05.906068Z"
    },
    "papermill": {
     "duration": 0.022073,
     "end_time": "2025-10-08T00:38:05.908012",
     "exception": false,
     "start_time": "2025-10-08T00:38:05.885939",
     "status": "completed"
    },
    "tags": []
   },
   "outputs": [
    {
     "data": {
      "text/html": [
       "<div>\n",
       "<style scoped>\n",
       "    .dataframe tbody tr th:only-of-type {\n",
       "        vertical-align: middle;\n",
       "    }\n",
       "\n",
       "    .dataframe tbody tr th {\n",
       "        vertical-align: top;\n",
       "    }\n",
       "\n",
       "    .dataframe thead th {\n",
       "        text-align: right;\n",
       "    }\n",
       "</style>\n",
       "<table border=\"1\" class=\"dataframe\">\n",
       "  <thead>\n",
       "    <tr style=\"text-align: right;\">\n",
       "      <th></th>\n",
       "      <th>body</th>\n",
       "      <th>rule</th>\n",
       "      <th>subreddit</th>\n",
       "      <th>rule_violation</th>\n",
       "      <th>sentiment</th>\n",
       "    </tr>\n",
       "  </thead>\n",
       "  <tbody>\n",
       "    <tr>\n",
       "      <th>0</th>\n",
       "      <td>banks dont want know click know</td>\n",
       "      <td>No Advertising: Spam, referral links, unsolici...</td>\n",
       "      <td>Futurology</td>\n",
       "      <td>0</td>\n",
       "      <td>-0.0572</td>\n",
       "    </tr>\n",
       "    <tr>\n",
       "      <th>1</th>\n",
       "      <td>sd stream eng link</td>\n",
       "      <td>No Advertising: Spam, referral links, unsolici...</td>\n",
       "      <td>soccerstreams</td>\n",
       "      <td>0</td>\n",
       "      <td>0.0000</td>\n",
       "    </tr>\n",
       "    <tr>\n",
       "      <th>2</th>\n",
       "      <td>lol try appealing ban say wont</td>\n",
       "      <td>No legal advice: Do not offer or request legal...</td>\n",
       "      <td>pcmasterrace</td>\n",
       "      <td>1</td>\n",
       "      <td>-0.2023</td>\n",
       "    </tr>\n",
       "    <tr>\n",
       "      <th>3</th>\n",
       "      <td>come home open legs</td>\n",
       "      <td>No Advertising: Spam, referral links, unsolici...</td>\n",
       "      <td>sex</td>\n",
       "      <td>1</td>\n",
       "      <td>0.0000</td>\n",
       "    </tr>\n",
       "    <tr>\n",
       "      <th>4</th>\n",
       "      <td>code free tyrande imgur friend codes dollars b...</td>\n",
       "      <td>No Advertising: Spam, referral links, unsolici...</td>\n",
       "      <td>hearthstone</td>\n",
       "      <td>1</td>\n",
       "      <td>0.7579</td>\n",
       "    </tr>\n",
       "    <tr>\n",
       "      <th>...</th>\n",
       "      <td>...</td>\n",
       "      <td>...</td>\n",
       "      <td>...</td>\n",
       "      <td>...</td>\n",
       "      <td>...</td>\n",
       "    </tr>\n",
       "    <tr>\n",
       "      <th>2024</th>\n",
       "      <td>please edit post readable kids need cps need l...</td>\n",
       "      <td>No legal advice: Do not offer or request legal...</td>\n",
       "      <td>relationships</td>\n",
       "      <td>1</td>\n",
       "      <td>0.3182</td>\n",
       "    </tr>\n",
       "    <tr>\n",
       "      <th>2025</th>\n",
       "      <td>yes right work state even fire reason tell tho...</td>\n",
       "      <td>No legal advice: Do not offer or request legal...</td>\n",
       "      <td>legaladvice</td>\n",
       "      <td>0</td>\n",
       "      <td>0.3400</td>\n",
       "    </tr>\n",
       "    <tr>\n",
       "      <th>2026</th>\n",
       "      <td>hd streams eng hd watch herepc mobile ad overl...</td>\n",
       "      <td>No Advertising: Spam, referral links, unsolici...</td>\n",
       "      <td>soccerstreams</td>\n",
       "      <td>1</td>\n",
       "      <td>0.4019</td>\n",
       "    </tr>\n",
       "    <tr>\n",
       "      <th>2027</th>\n",
       "      <td>obviously presents safety hazard universities ...</td>\n",
       "      <td>No legal advice: Do not offer or request legal...</td>\n",
       "      <td>politics</td>\n",
       "      <td>1</td>\n",
       "      <td>0.0772</td>\n",
       "    </tr>\n",
       "    <tr>\n",
       "      <th>2028</th>\n",
       "      <td>ca fault state able recover anything policyyou...</td>\n",
       "      <td>No legal advice: Do not offer or request legal...</td>\n",
       "      <td>legaladvice</td>\n",
       "      <td>1</td>\n",
       "      <td>-0.4939</td>\n",
       "    </tr>\n",
       "  </tbody>\n",
       "</table>\n",
       "<p>2029 rows × 5 columns</p>\n",
       "</div>"
      ],
      "text/plain": [
       "                                                   body  \\\n",
       "0                       banks dont want know click know   \n",
       "1                                    sd stream eng link   \n",
       "2                        lol try appealing ban say wont   \n",
       "3                                   come home open legs   \n",
       "4     code free tyrande imgur friend codes dollars b...   \n",
       "...                                                 ...   \n",
       "2024  please edit post readable kids need cps need l...   \n",
       "2025  yes right work state even fire reason tell tho...   \n",
       "2026  hd streams eng hd watch herepc mobile ad overl...   \n",
       "2027  obviously presents safety hazard universities ...   \n",
       "2028  ca fault state able recover anything policyyou...   \n",
       "\n",
       "                                                   rule      subreddit  \\\n",
       "0     No Advertising: Spam, referral links, unsolici...     Futurology   \n",
       "1     No Advertising: Spam, referral links, unsolici...  soccerstreams   \n",
       "2     No legal advice: Do not offer or request legal...   pcmasterrace   \n",
       "3     No Advertising: Spam, referral links, unsolici...            sex   \n",
       "4     No Advertising: Spam, referral links, unsolici...    hearthstone   \n",
       "...                                                 ...            ...   \n",
       "2024  No legal advice: Do not offer or request legal...  relationships   \n",
       "2025  No legal advice: Do not offer or request legal...    legaladvice   \n",
       "2026  No Advertising: Spam, referral links, unsolici...  soccerstreams   \n",
       "2027  No legal advice: Do not offer or request legal...       politics   \n",
       "2028  No legal advice: Do not offer or request legal...    legaladvice   \n",
       "\n",
       "      rule_violation  sentiment  \n",
       "0                  0    -0.0572  \n",
       "1                  0     0.0000  \n",
       "2                  1    -0.2023  \n",
       "3                  1     0.0000  \n",
       "4                  1     0.7579  \n",
       "...              ...        ...  \n",
       "2024               1     0.3182  \n",
       "2025               0     0.3400  \n",
       "2026               1     0.4019  \n",
       "2027               1     0.0772  \n",
       "2028               1    -0.4939  \n",
       "\n",
       "[2029 rows x 5 columns]"
      ]
     },
     "execution_count": 23,
     "metadata": {},
     "output_type": "execute_result"
    }
   ],
   "source": [
    "df"
   ]
  },
  {
   "cell_type": "code",
   "execution_count": 24,
   "id": "4ffd6b35",
   "metadata": {
    "execution": {
     "iopub.execute_input": "2025-10-08T00:38:05.928034Z",
     "iopub.status.busy": "2025-10-08T00:38:05.927378Z",
     "iopub.status.idle": "2025-10-08T00:38:05.936020Z",
     "shell.execute_reply": "2025-10-08T00:38:05.935172Z"
    },
    "papermill": {
     "duration": 0.020243,
     "end_time": "2025-10-08T00:38:05.937498",
     "exception": false,
     "start_time": "2025-10-08T00:38:05.917255",
     "status": "completed"
    },
    "tags": []
   },
   "outputs": [
    {
     "data": {
      "text/plain": [
       "array(['No Advertising: Spam, referral links, unsolicited advertising, and promotional content are not allowed.',\n",
       "       'No legal advice: Do not offer or request legal advice.'],\n",
       "      dtype=object)"
      ]
     },
     "execution_count": 24,
     "metadata": {},
     "output_type": "execute_result"
    }
   ],
   "source": [
    "df['rule'].unique()"
   ]
  },
  {
   "cell_type": "code",
   "execution_count": 25,
   "id": "191b6fda",
   "metadata": {
    "execution": {
     "iopub.execute_input": "2025-10-08T00:38:05.957234Z",
     "iopub.status.busy": "2025-10-08T00:38:05.956934Z",
     "iopub.status.idle": "2025-10-08T00:38:05.968153Z",
     "shell.execute_reply": "2025-10-08T00:38:05.967304Z"
    },
    "papermill": {
     "duration": 0.022598,
     "end_time": "2025-10-08T00:38:05.969439",
     "exception": false,
     "start_time": "2025-10-08T00:38:05.946841",
     "status": "completed"
    },
    "tags": []
   },
   "outputs": [
    {
     "data": {
      "text/html": [
       "<div>\n",
       "<style scoped>\n",
       "    .dataframe tbody tr th:only-of-type {\n",
       "        vertical-align: middle;\n",
       "    }\n",
       "\n",
       "    .dataframe tbody tr th {\n",
       "        vertical-align: top;\n",
       "    }\n",
       "\n",
       "    .dataframe thead th {\n",
       "        text-align: right;\n",
       "    }\n",
       "</style>\n",
       "<table border=\"1\" class=\"dataframe\">\n",
       "  <thead>\n",
       "    <tr style=\"text-align: right;\">\n",
       "      <th></th>\n",
       "      <th>body</th>\n",
       "      <th>rule</th>\n",
       "      <th>subreddit</th>\n",
       "      <th>rule_violation</th>\n",
       "      <th>sentiment</th>\n",
       "    </tr>\n",
       "  </thead>\n",
       "  <tbody>\n",
       "    <tr>\n",
       "      <th>0</th>\n",
       "      <td>banks dont want know click know</td>\n",
       "      <td>No Advertising: Spam, referral links, unsolici...</td>\n",
       "      <td>Futurology</td>\n",
       "      <td>0</td>\n",
       "      <td>-0.0572</td>\n",
       "    </tr>\n",
       "    <tr>\n",
       "      <th>1</th>\n",
       "      <td>sd stream eng link</td>\n",
       "      <td>No Advertising: Spam, referral links, unsolici...</td>\n",
       "      <td>soccerstreams</td>\n",
       "      <td>0</td>\n",
       "      <td>0.0000</td>\n",
       "    </tr>\n",
       "    <tr>\n",
       "      <th>2</th>\n",
       "      <td>lol try appealing ban say wont</td>\n",
       "      <td>No legal advice: Do not offer or request legal...</td>\n",
       "      <td>pcmasterrace</td>\n",
       "      <td>1</td>\n",
       "      <td>-0.2023</td>\n",
       "    </tr>\n",
       "    <tr>\n",
       "      <th>3</th>\n",
       "      <td>come home open legs</td>\n",
       "      <td>No Advertising: Spam, referral links, unsolici...</td>\n",
       "      <td>sex</td>\n",
       "      <td>1</td>\n",
       "      <td>0.0000</td>\n",
       "    </tr>\n",
       "    <tr>\n",
       "      <th>4</th>\n",
       "      <td>code free tyrande imgur friend codes dollars b...</td>\n",
       "      <td>No Advertising: Spam, referral links, unsolici...</td>\n",
       "      <td>hearthstone</td>\n",
       "      <td>1</td>\n",
       "      <td>0.7579</td>\n",
       "    </tr>\n",
       "    <tr>\n",
       "      <th>...</th>\n",
       "      <td>...</td>\n",
       "      <td>...</td>\n",
       "      <td>...</td>\n",
       "      <td>...</td>\n",
       "      <td>...</td>\n",
       "    </tr>\n",
       "    <tr>\n",
       "      <th>2024</th>\n",
       "      <td>please edit post readable kids need cps need l...</td>\n",
       "      <td>No legal advice: Do not offer or request legal...</td>\n",
       "      <td>relationships</td>\n",
       "      <td>1</td>\n",
       "      <td>0.3182</td>\n",
       "    </tr>\n",
       "    <tr>\n",
       "      <th>2025</th>\n",
       "      <td>yes right work state even fire reason tell tho...</td>\n",
       "      <td>No legal advice: Do not offer or request legal...</td>\n",
       "      <td>legaladvice</td>\n",
       "      <td>0</td>\n",
       "      <td>0.3400</td>\n",
       "    </tr>\n",
       "    <tr>\n",
       "      <th>2026</th>\n",
       "      <td>hd streams eng hd watch herepc mobile ad overl...</td>\n",
       "      <td>No Advertising: Spam, referral links, unsolici...</td>\n",
       "      <td>soccerstreams</td>\n",
       "      <td>1</td>\n",
       "      <td>0.4019</td>\n",
       "    </tr>\n",
       "    <tr>\n",
       "      <th>2027</th>\n",
       "      <td>obviously presents safety hazard universities ...</td>\n",
       "      <td>No legal advice: Do not offer or request legal...</td>\n",
       "      <td>politics</td>\n",
       "      <td>1</td>\n",
       "      <td>0.0772</td>\n",
       "    </tr>\n",
       "    <tr>\n",
       "      <th>2028</th>\n",
       "      <td>ca fault state able recover anything policyyou...</td>\n",
       "      <td>No legal advice: Do not offer or request legal...</td>\n",
       "      <td>legaladvice</td>\n",
       "      <td>1</td>\n",
       "      <td>-0.4939</td>\n",
       "    </tr>\n",
       "  </tbody>\n",
       "</table>\n",
       "<p>2029 rows × 5 columns</p>\n",
       "</div>"
      ],
      "text/plain": [
       "                                                   body  \\\n",
       "0                       banks dont want know click know   \n",
       "1                                    sd stream eng link   \n",
       "2                        lol try appealing ban say wont   \n",
       "3                                   come home open legs   \n",
       "4     code free tyrande imgur friend codes dollars b...   \n",
       "...                                                 ...   \n",
       "2024  please edit post readable kids need cps need l...   \n",
       "2025  yes right work state even fire reason tell tho...   \n",
       "2026  hd streams eng hd watch herepc mobile ad overl...   \n",
       "2027  obviously presents safety hazard universities ...   \n",
       "2028  ca fault state able recover anything policyyou...   \n",
       "\n",
       "                                                   rule      subreddit  \\\n",
       "0     No Advertising: Spam, referral links, unsolici...     Futurology   \n",
       "1     No Advertising: Spam, referral links, unsolici...  soccerstreams   \n",
       "2     No legal advice: Do not offer or request legal...   pcmasterrace   \n",
       "3     No Advertising: Spam, referral links, unsolici...            sex   \n",
       "4     No Advertising: Spam, referral links, unsolici...    hearthstone   \n",
       "...                                                 ...            ...   \n",
       "2024  No legal advice: Do not offer or request legal...  relationships   \n",
       "2025  No legal advice: Do not offer or request legal...    legaladvice   \n",
       "2026  No Advertising: Spam, referral links, unsolici...  soccerstreams   \n",
       "2027  No legal advice: Do not offer or request legal...       politics   \n",
       "2028  No legal advice: Do not offer or request legal...    legaladvice   \n",
       "\n",
       "      rule_violation  sentiment  \n",
       "0                  0    -0.0572  \n",
       "1                  0     0.0000  \n",
       "2                  1    -0.2023  \n",
       "3                  1     0.0000  \n",
       "4                  1     0.7579  \n",
       "...              ...        ...  \n",
       "2024               1     0.3182  \n",
       "2025               0     0.3400  \n",
       "2026               1     0.4019  \n",
       "2027               1     0.0772  \n",
       "2028               1    -0.4939  \n",
       "\n",
       "[2029 rows x 5 columns]"
      ]
     },
     "execution_count": 25,
     "metadata": {},
     "output_type": "execute_result"
    }
   ],
   "source": [
    "df"
   ]
  },
  {
   "cell_type": "code",
   "execution_count": 26,
   "id": "e4c0c6ed",
   "metadata": {
    "execution": {
     "iopub.execute_input": "2025-10-08T00:38:05.990267Z",
     "iopub.status.busy": "2025-10-08T00:38:05.989942Z",
     "iopub.status.idle": "2025-10-08T00:38:05.998129Z",
     "shell.execute_reply": "2025-10-08T00:38:05.997064Z"
    },
    "papermill": {
     "duration": 0.020501,
     "end_time": "2025-10-08T00:38:05.999749",
     "exception": false,
     "start_time": "2025-10-08T00:38:05.979248",
     "status": "completed"
    },
    "tags": []
   },
   "outputs": [],
   "source": [
    "df['body'] = df['body'] + ' ' + df['subreddit']\n",
    "\n",
    "df_eg['rule'] = None\n",
    "\n",
    "df = df.drop('subreddit', axis=1)"
   ]
  },
  {
   "cell_type": "code",
   "execution_count": 27,
   "id": "72bb7be6",
   "metadata": {
    "execution": {
     "iopub.execute_input": "2025-10-08T00:38:06.020406Z",
     "iopub.status.busy": "2025-10-08T00:38:06.019897Z",
     "iopub.status.idle": "2025-10-08T00:38:06.030163Z",
     "shell.execute_reply": "2025-10-08T00:38:06.029306Z"
    },
    "papermill": {
     "duration": 0.0221,
     "end_time": "2025-10-08T00:38:06.031561",
     "exception": false,
     "start_time": "2025-10-08T00:38:06.009461",
     "status": "completed"
    },
    "tags": []
   },
   "outputs": [
    {
     "data": {
      "text/html": [
       "<div>\n",
       "<style scoped>\n",
       "    .dataframe tbody tr th:only-of-type {\n",
       "        vertical-align: middle;\n",
       "    }\n",
       "\n",
       "    .dataframe tbody tr th {\n",
       "        vertical-align: top;\n",
       "    }\n",
       "\n",
       "    .dataframe thead th {\n",
       "        text-align: right;\n",
       "    }\n",
       "</style>\n",
       "<table border=\"1\" class=\"dataframe\">\n",
       "  <thead>\n",
       "    <tr style=\"text-align: right;\">\n",
       "      <th></th>\n",
       "      <th>body</th>\n",
       "      <th>rule</th>\n",
       "      <th>rule_violation</th>\n",
       "      <th>sentiment</th>\n",
       "    </tr>\n",
       "  </thead>\n",
       "  <tbody>\n",
       "    <tr>\n",
       "      <th>0</th>\n",
       "      <td>banks dont want know click know Futurology</td>\n",
       "      <td>No Advertising: Spam, referral links, unsolici...</td>\n",
       "      <td>0</td>\n",
       "      <td>-0.0572</td>\n",
       "    </tr>\n",
       "    <tr>\n",
       "      <th>1</th>\n",
       "      <td>sd stream eng link soccerstreams</td>\n",
       "      <td>No Advertising: Spam, referral links, unsolici...</td>\n",
       "      <td>0</td>\n",
       "      <td>0.0000</td>\n",
       "    </tr>\n",
       "    <tr>\n",
       "      <th>2</th>\n",
       "      <td>lol try appealing ban say wont pcmasterrace</td>\n",
       "      <td>No legal advice: Do not offer or request legal...</td>\n",
       "      <td>1</td>\n",
       "      <td>-0.2023</td>\n",
       "    </tr>\n",
       "    <tr>\n",
       "      <th>3</th>\n",
       "      <td>come home open legs sex</td>\n",
       "      <td>No Advertising: Spam, referral links, unsolici...</td>\n",
       "      <td>1</td>\n",
       "      <td>0.0000</td>\n",
       "    </tr>\n",
       "    <tr>\n",
       "      <th>4</th>\n",
       "      <td>code free tyrande imgur friend codes dollars b...</td>\n",
       "      <td>No Advertising: Spam, referral links, unsolici...</td>\n",
       "      <td>1</td>\n",
       "      <td>0.7579</td>\n",
       "    </tr>\n",
       "    <tr>\n",
       "      <th>...</th>\n",
       "      <td>...</td>\n",
       "      <td>...</td>\n",
       "      <td>...</td>\n",
       "      <td>...</td>\n",
       "    </tr>\n",
       "    <tr>\n",
       "      <th>2024</th>\n",
       "      <td>please edit post readable kids need cps need l...</td>\n",
       "      <td>No legal advice: Do not offer or request legal...</td>\n",
       "      <td>1</td>\n",
       "      <td>0.3182</td>\n",
       "    </tr>\n",
       "    <tr>\n",
       "      <th>2025</th>\n",
       "      <td>yes right work state even fire reason tell tho...</td>\n",
       "      <td>No legal advice: Do not offer or request legal...</td>\n",
       "      <td>0</td>\n",
       "      <td>0.3400</td>\n",
       "    </tr>\n",
       "    <tr>\n",
       "      <th>2026</th>\n",
       "      <td>hd streams eng hd watch herepc mobile ad overl...</td>\n",
       "      <td>No Advertising: Spam, referral links, unsolici...</td>\n",
       "      <td>1</td>\n",
       "      <td>0.4019</td>\n",
       "    </tr>\n",
       "    <tr>\n",
       "      <th>2027</th>\n",
       "      <td>obviously presents safety hazard universities ...</td>\n",
       "      <td>No legal advice: Do not offer or request legal...</td>\n",
       "      <td>1</td>\n",
       "      <td>0.0772</td>\n",
       "    </tr>\n",
       "    <tr>\n",
       "      <th>2028</th>\n",
       "      <td>ca fault state able recover anything policyyou...</td>\n",
       "      <td>No legal advice: Do not offer or request legal...</td>\n",
       "      <td>1</td>\n",
       "      <td>-0.4939</td>\n",
       "    </tr>\n",
       "  </tbody>\n",
       "</table>\n",
       "<p>2029 rows × 4 columns</p>\n",
       "</div>"
      ],
      "text/plain": [
       "                                                   body  \\\n",
       "0            banks dont want know click know Futurology   \n",
       "1                      sd stream eng link soccerstreams   \n",
       "2           lol try appealing ban say wont pcmasterrace   \n",
       "3                               come home open legs sex   \n",
       "4     code free tyrande imgur friend codes dollars b...   \n",
       "...                                                 ...   \n",
       "2024  please edit post readable kids need cps need l...   \n",
       "2025  yes right work state even fire reason tell tho...   \n",
       "2026  hd streams eng hd watch herepc mobile ad overl...   \n",
       "2027  obviously presents safety hazard universities ...   \n",
       "2028  ca fault state able recover anything policyyou...   \n",
       "\n",
       "                                                   rule  rule_violation  \\\n",
       "0     No Advertising: Spam, referral links, unsolici...               0   \n",
       "1     No Advertising: Spam, referral links, unsolici...               0   \n",
       "2     No legal advice: Do not offer or request legal...               1   \n",
       "3     No Advertising: Spam, referral links, unsolici...               1   \n",
       "4     No Advertising: Spam, referral links, unsolici...               1   \n",
       "...                                                 ...             ...   \n",
       "2024  No legal advice: Do not offer or request legal...               1   \n",
       "2025  No legal advice: Do not offer or request legal...               0   \n",
       "2026  No Advertising: Spam, referral links, unsolici...               1   \n",
       "2027  No legal advice: Do not offer or request legal...               1   \n",
       "2028  No legal advice: Do not offer or request legal...               1   \n",
       "\n",
       "      sentiment  \n",
       "0       -0.0572  \n",
       "1        0.0000  \n",
       "2       -0.2023  \n",
       "3        0.0000  \n",
       "4        0.7579  \n",
       "...         ...  \n",
       "2024     0.3182  \n",
       "2025     0.3400  \n",
       "2026     0.4019  \n",
       "2027     0.0772  \n",
       "2028    -0.4939  \n",
       "\n",
       "[2029 rows x 4 columns]"
      ]
     },
     "execution_count": 27,
     "metadata": {},
     "output_type": "execute_result"
    }
   ],
   "source": [
    "df"
   ]
  },
  {
   "cell_type": "code",
   "execution_count": 28,
   "id": "a5001cf6",
   "metadata": {
    "execution": {
     "iopub.execute_input": "2025-10-08T00:38:06.052986Z",
     "iopub.status.busy": "2025-10-08T00:38:06.052302Z",
     "iopub.status.idle": "2025-10-08T00:38:06.058028Z",
     "shell.execute_reply": "2025-10-08T00:38:06.057273Z"
    },
    "papermill": {
     "duration": 0.017904,
     "end_time": "2025-10-08T00:38:06.059409",
     "exception": false,
     "start_time": "2025-10-08T00:38:06.041505",
     "status": "completed"
    },
    "tags": []
   },
   "outputs": [],
   "source": [
    "df_eg = df_eg.rename(columns={'text':'body', 'label':'rule_violation'})"
   ]
  },
  {
   "cell_type": "code",
   "execution_count": 29,
   "id": "cea82312",
   "metadata": {
    "execution": {
     "iopub.execute_input": "2025-10-08T00:38:06.080558Z",
     "iopub.status.busy": "2025-10-08T00:38:06.080031Z",
     "iopub.status.idle": "2025-10-08T00:38:06.094330Z",
     "shell.execute_reply": "2025-10-08T00:38:06.093543Z"
    },
    "papermill": {
     "duration": 0.026481,
     "end_time": "2025-10-08T00:38:06.095827",
     "exception": false,
     "start_time": "2025-10-08T00:38:06.069346",
     "status": "completed"
    },
    "tags": []
   },
   "outputs": [],
   "source": [
    "df_train = pd.concat([df, df_eg], ignore_index=True)\n",
    "X = df_train.drop(columns = 'rule_violation')"
   ]
  },
  {
   "cell_type": "code",
   "execution_count": 30,
   "id": "5286bb39",
   "metadata": {
    "execution": {
     "iopub.execute_input": "2025-10-08T00:38:06.116430Z",
     "iopub.status.busy": "2025-10-08T00:38:06.115881Z",
     "iopub.status.idle": "2025-10-08T00:38:06.125265Z",
     "shell.execute_reply": "2025-10-08T00:38:06.124411Z"
    },
    "papermill": {
     "duration": 0.021422,
     "end_time": "2025-10-08T00:38:06.126884",
     "exception": false,
     "start_time": "2025-10-08T00:38:06.105462",
     "status": "completed"
    },
    "tags": []
   },
   "outputs": [],
   "source": [
    "X = pd.get_dummies(X, columns=['rule'])"
   ]
  },
  {
   "cell_type": "code",
   "execution_count": 31,
   "id": "7346bab1",
   "metadata": {
    "execution": {
     "iopub.execute_input": "2025-10-08T00:38:06.147053Z",
     "iopub.status.busy": "2025-10-08T00:38:06.146747Z",
     "iopub.status.idle": "2025-10-08T00:38:06.150829Z",
     "shell.execute_reply": "2025-10-08T00:38:06.150115Z"
    },
    "papermill": {
     "duration": 0.015792,
     "end_time": "2025-10-08T00:38:06.152288",
     "exception": false,
     "start_time": "2025-10-08T00:38:06.136496",
     "status": "completed"
    },
    "tags": []
   },
   "outputs": [],
   "source": [
    "y = df_train['rule_violation']"
   ]
  },
  {
   "cell_type": "code",
   "execution_count": 32,
   "id": "0efff272",
   "metadata": {
    "execution": {
     "iopub.execute_input": "2025-10-08T00:38:06.174134Z",
     "iopub.status.busy": "2025-10-08T00:38:06.173805Z",
     "iopub.status.idle": "2025-10-08T00:38:06.178061Z",
     "shell.execute_reply": "2025-10-08T00:38:06.177355Z"
    },
    "papermill": {
     "duration": 0.016859,
     "end_time": "2025-10-08T00:38:06.179506",
     "exception": false,
     "start_time": "2025-10-08T00:38:06.162647",
     "status": "completed"
    },
    "tags": []
   },
   "outputs": [],
   "source": [
    "from sklearn.feature_extraction.text import TfidfVectorizer\n",
    "from sklearn.linear_model import LogisticRegression\n",
    "from sklearn.metrics import classification_report, confusion_matrix\n",
    "from sklearn.model_selection import train_test_split"
   ]
  },
  {
   "cell_type": "code",
   "execution_count": 33,
   "id": "787974b2",
   "metadata": {
    "execution": {
     "iopub.execute_input": "2025-10-08T00:38:06.200668Z",
     "iopub.status.busy": "2025-10-08T00:38:06.199939Z",
     "iopub.status.idle": "2025-10-08T00:38:06.204123Z",
     "shell.execute_reply": "2025-10-08T00:38:06.203336Z"
    },
    "papermill": {
     "duration": 0.016174,
     "end_time": "2025-10-08T00:38:06.205544",
     "exception": false,
     "start_time": "2025-10-08T00:38:06.189370",
     "status": "completed"
    },
    "tags": []
   },
   "outputs": [],
   "source": [
    "tfdif = TfidfVectorizer()"
   ]
  },
  {
   "cell_type": "code",
   "execution_count": 34,
   "id": "e02d55ef",
   "metadata": {
    "execution": {
     "iopub.execute_input": "2025-10-08T00:38:06.226463Z",
     "iopub.status.busy": "2025-10-08T00:38:06.226174Z",
     "iopub.status.idle": "2025-10-08T00:38:06.230250Z",
     "shell.execute_reply": "2025-10-08T00:38:06.229538Z"
    },
    "papermill": {
     "duration": 0.016617,
     "end_time": "2025-10-08T00:38:06.231775",
     "exception": false,
     "start_time": "2025-10-08T00:38:06.215158",
     "status": "completed"
    },
    "tags": []
   },
   "outputs": [],
   "source": [
    "loreg = LogisticRegression()"
   ]
  },
  {
   "cell_type": "code",
   "execution_count": 35,
   "id": "22008b11",
   "metadata": {
    "execution": {
     "iopub.execute_input": "2025-10-08T00:38:06.252834Z",
     "iopub.status.busy": "2025-10-08T00:38:06.252054Z",
     "iopub.status.idle": "2025-10-08T00:38:06.407974Z",
     "shell.execute_reply": "2025-10-08T00:38:06.407206Z"
    },
    "papermill": {
     "duration": 0.168308,
     "end_time": "2025-10-08T00:38:06.409812",
     "exception": false,
     "start_time": "2025-10-08T00:38:06.241504",
     "status": "completed"
    },
    "tags": []
   },
   "outputs": [],
   "source": [
    "X_transform = tfdif.fit_transform(X['body'])"
   ]
  },
  {
   "cell_type": "code",
   "execution_count": 36,
   "id": "a6a7a152",
   "metadata": {
    "execution": {
     "iopub.execute_input": "2025-10-08T00:38:06.431167Z",
     "iopub.status.busy": "2025-10-08T00:38:06.430854Z",
     "iopub.status.idle": "2025-10-08T00:38:06.440208Z",
     "shell.execute_reply": "2025-10-08T00:38:06.439447Z"
    },
    "papermill": {
     "duration": 0.021431,
     "end_time": "2025-10-08T00:38:06.441570",
     "exception": false,
     "start_time": "2025-10-08T00:38:06.420139",
     "status": "completed"
    },
    "tags": []
   },
   "outputs": [
    {
     "data": {
      "text/plain": [
       "array(['2007scape', 'aaron', 'ab', ..., 'zones', 'zurich', 'zven'],\n",
       "      dtype=object)"
      ]
     },
     "execution_count": 36,
     "metadata": {},
     "output_type": "execute_result"
    }
   ],
   "source": [
    "tfdif.get_feature_names_out()"
   ]
  },
  {
   "cell_type": "code",
   "execution_count": 37,
   "id": "bbc862b3",
   "metadata": {
    "execution": {
     "iopub.execute_input": "2025-10-08T00:38:06.462023Z",
     "iopub.status.busy": "2025-10-08T00:38:06.461722Z",
     "iopub.status.idle": "2025-10-08T00:38:06.466996Z",
     "shell.execute_reply": "2025-10-08T00:38:06.466155Z"
    },
    "papermill": {
     "duration": 0.016862,
     "end_time": "2025-10-08T00:38:06.468268",
     "exception": false,
     "start_time": "2025-10-08T00:38:06.451406",
     "status": "completed"
    },
    "tags": []
   },
   "outputs": [
    {
     "data": {
      "text/plain": [
       "(10145, 7026)"
      ]
     },
     "execution_count": 37,
     "metadata": {},
     "output_type": "execute_result"
    }
   ],
   "source": [
    "X_transform.shape"
   ]
  },
  {
   "cell_type": "code",
   "execution_count": 38,
   "id": "6b50c9bf",
   "metadata": {
    "execution": {
     "iopub.execute_input": "2025-10-08T00:38:06.489355Z",
     "iopub.status.busy": "2025-10-08T00:38:06.488732Z",
     "iopub.status.idle": "2025-10-08T00:38:06.493941Z",
     "shell.execute_reply": "2025-10-08T00:38:06.493200Z"
    },
    "papermill": {
     "duration": 0.016975,
     "end_time": "2025-10-08T00:38:06.495166",
     "exception": false,
     "start_time": "2025-10-08T00:38:06.478191",
     "status": "completed"
    },
    "tags": []
   },
   "outputs": [
    {
     "data": {
      "text/plain": [
       "(10145,)"
      ]
     },
     "execution_count": 38,
     "metadata": {},
     "output_type": "execute_result"
    }
   ],
   "source": [
    "y.shape"
   ]
  },
  {
   "cell_type": "code",
   "execution_count": 39,
   "id": "15bec498",
   "metadata": {
    "execution": {
     "iopub.execute_input": "2025-10-08T00:38:06.516336Z",
     "iopub.status.busy": "2025-10-08T00:38:06.515596Z",
     "iopub.status.idle": "2025-10-08T00:38:06.911404Z",
     "shell.execute_reply": "2025-10-08T00:38:06.909334Z"
    },
    "papermill": {
     "duration": 0.4082,
     "end_time": "2025-10-08T00:38:06.913221",
     "exception": false,
     "start_time": "2025-10-08T00:38:06.505021",
     "status": "completed"
    },
    "tags": []
   },
   "outputs": [
    {
     "data": {
      "text/html": [
       "<style>#sk-container-id-1 {color: black;background-color: white;}#sk-container-id-1 pre{padding: 0;}#sk-container-id-1 div.sk-toggleable {background-color: white;}#sk-container-id-1 label.sk-toggleable__label {cursor: pointer;display: block;width: 100%;margin-bottom: 0;padding: 0.3em;box-sizing: border-box;text-align: center;}#sk-container-id-1 label.sk-toggleable__label-arrow:before {content: \"▸\";float: left;margin-right: 0.25em;color: #696969;}#sk-container-id-1 label.sk-toggleable__label-arrow:hover:before {color: black;}#sk-container-id-1 div.sk-estimator:hover label.sk-toggleable__label-arrow:before {color: black;}#sk-container-id-1 div.sk-toggleable__content {max-height: 0;max-width: 0;overflow: hidden;text-align: left;background-color: #f0f8ff;}#sk-container-id-1 div.sk-toggleable__content pre {margin: 0.2em;color: black;border-radius: 0.25em;background-color: #f0f8ff;}#sk-container-id-1 input.sk-toggleable__control:checked~div.sk-toggleable__content {max-height: 200px;max-width: 100%;overflow: auto;}#sk-container-id-1 input.sk-toggleable__control:checked~label.sk-toggleable__label-arrow:before {content: \"▾\";}#sk-container-id-1 div.sk-estimator input.sk-toggleable__control:checked~label.sk-toggleable__label {background-color: #d4ebff;}#sk-container-id-1 div.sk-label input.sk-toggleable__control:checked~label.sk-toggleable__label {background-color: #d4ebff;}#sk-container-id-1 input.sk-hidden--visually {border: 0;clip: rect(1px 1px 1px 1px);clip: rect(1px, 1px, 1px, 1px);height: 1px;margin: -1px;overflow: hidden;padding: 0;position: absolute;width: 1px;}#sk-container-id-1 div.sk-estimator {font-family: monospace;background-color: #f0f8ff;border: 1px dotted black;border-radius: 0.25em;box-sizing: border-box;margin-bottom: 0.5em;}#sk-container-id-1 div.sk-estimator:hover {background-color: #d4ebff;}#sk-container-id-1 div.sk-parallel-item::after {content: \"\";width: 100%;border-bottom: 1px solid gray;flex-grow: 1;}#sk-container-id-1 div.sk-label:hover label.sk-toggleable__label {background-color: #d4ebff;}#sk-container-id-1 div.sk-serial::before {content: \"\";position: absolute;border-left: 1px solid gray;box-sizing: border-box;top: 0;bottom: 0;left: 50%;z-index: 0;}#sk-container-id-1 div.sk-serial {display: flex;flex-direction: column;align-items: center;background-color: white;padding-right: 0.2em;padding-left: 0.2em;position: relative;}#sk-container-id-1 div.sk-item {position: relative;z-index: 1;}#sk-container-id-1 div.sk-parallel {display: flex;align-items: stretch;justify-content: center;background-color: white;position: relative;}#sk-container-id-1 div.sk-item::before, #sk-container-id-1 div.sk-parallel-item::before {content: \"\";position: absolute;border-left: 1px solid gray;box-sizing: border-box;top: 0;bottom: 0;left: 50%;z-index: -1;}#sk-container-id-1 div.sk-parallel-item {display: flex;flex-direction: column;z-index: 1;position: relative;background-color: white;}#sk-container-id-1 div.sk-parallel-item:first-child::after {align-self: flex-end;width: 50%;}#sk-container-id-1 div.sk-parallel-item:last-child::after {align-self: flex-start;width: 50%;}#sk-container-id-1 div.sk-parallel-item:only-child::after {width: 0;}#sk-container-id-1 div.sk-dashed-wrapped {border: 1px dashed gray;margin: 0 0.4em 0.5em 0.4em;box-sizing: border-box;padding-bottom: 0.4em;background-color: white;}#sk-container-id-1 div.sk-label label {font-family: monospace;font-weight: bold;display: inline-block;line-height: 1.2em;}#sk-container-id-1 div.sk-label-container {text-align: center;}#sk-container-id-1 div.sk-container {/* jupyter's `normalize.less` sets `[hidden] { display: none; }` but bootstrap.min.css set `[hidden] { display: none !important; }` so we also need the `!important` here to be able to override the default hidden behavior on the sphinx rendered scikit-learn.org. See: https://github.com/scikit-learn/scikit-learn/issues/21755 */display: inline-block !important;position: relative;}#sk-container-id-1 div.sk-text-repr-fallback {display: none;}</style><div id=\"sk-container-id-1\" class=\"sk-top-container\"><div class=\"sk-text-repr-fallback\"><pre>LogisticRegression()</pre><b>In a Jupyter environment, please rerun this cell to show the HTML representation or trust the notebook. <br />On GitHub, the HTML representation is unable to render, please try loading this page with nbviewer.org.</b></div><div class=\"sk-container\" hidden><div class=\"sk-item\"><div class=\"sk-estimator sk-toggleable\"><input class=\"sk-toggleable__control sk-hidden--visually\" id=\"sk-estimator-id-1\" type=\"checkbox\" checked><label for=\"sk-estimator-id-1\" class=\"sk-toggleable__label sk-toggleable__label-arrow\">LogisticRegression</label><div class=\"sk-toggleable__content\"><pre>LogisticRegression()</pre></div></div></div></div></div>"
      ],
      "text/plain": [
       "LogisticRegression()"
      ]
     },
     "execution_count": 39,
     "metadata": {},
     "output_type": "execute_result"
    }
   ],
   "source": [
    "loreg.fit(X_transform, y)"
   ]
  },
  {
   "cell_type": "code",
   "execution_count": 40,
   "id": "be97588d",
   "metadata": {
    "execution": {
     "iopub.execute_input": "2025-10-08T00:38:06.948699Z",
     "iopub.status.busy": "2025-10-08T00:38:06.948352Z",
     "iopub.status.idle": "2025-10-08T00:38:06.955165Z",
     "shell.execute_reply": "2025-10-08T00:38:06.954404Z"
    },
    "papermill": {
     "duration": 0.026594,
     "end_time": "2025-10-08T00:38:06.957060",
     "exception": false,
     "start_time": "2025-10-08T00:38:06.930466",
     "status": "completed"
    },
    "tags": []
   },
   "outputs": [],
   "source": [
    "y_pred = loreg.predict(X_transform)"
   ]
  },
  {
   "cell_type": "code",
   "execution_count": 41,
   "id": "f0e7174f",
   "metadata": {
    "execution": {
     "iopub.execute_input": "2025-10-08T00:38:06.993138Z",
     "iopub.status.busy": "2025-10-08T00:38:06.992806Z",
     "iopub.status.idle": "2025-10-08T00:38:07.023550Z",
     "shell.execute_reply": "2025-10-08T00:38:07.022610Z"
    },
    "papermill": {
     "duration": 0.050264,
     "end_time": "2025-10-08T00:38:07.025169",
     "exception": false,
     "start_time": "2025-10-08T00:38:06.974905",
     "status": "completed"
    },
    "tags": []
   },
   "outputs": [
    {
     "name": "stdout",
     "output_type": "stream",
     "text": [
      "              precision    recall  f1-score   support\n",
      "\n",
      "           0       0.98      0.97      0.97      5056\n",
      "           1       0.97      0.98      0.97      5089\n",
      "\n",
      "    accuracy                           0.97     10145\n",
      "   macro avg       0.97      0.97      0.97     10145\n",
      "weighted avg       0.97      0.97      0.97     10145\n",
      "\n"
     ]
    }
   ],
   "source": [
    "print(classification_report(y, y_pred))"
   ]
  },
  {
   "cell_type": "code",
   "execution_count": 42,
   "id": "59c438cd",
   "metadata": {
    "execution": {
     "iopub.execute_input": "2025-10-08T00:38:07.047154Z",
     "iopub.status.busy": "2025-10-08T00:38:07.046316Z",
     "iopub.status.idle": "2025-10-08T00:38:07.053430Z",
     "shell.execute_reply": "2025-10-08T00:38:07.052622Z"
    },
    "papermill": {
     "duration": 0.019331,
     "end_time": "2025-10-08T00:38:07.054880",
     "exception": false,
     "start_time": "2025-10-08T00:38:07.035549",
     "status": "completed"
    },
    "tags": []
   },
   "outputs": [],
   "source": [
    "# apply train test split\n",
    "X_train, X_test, y_train, y_test = train_test_split(X_transform, y, test_size=0.3)"
   ]
  },
  {
   "cell_type": "code",
   "execution_count": 43,
   "id": "a238add4",
   "metadata": {
    "execution": {
     "iopub.execute_input": "2025-10-08T00:38:07.077085Z",
     "iopub.status.busy": "2025-10-08T00:38:07.076447Z",
     "iopub.status.idle": "2025-10-08T00:38:07.410827Z",
     "shell.execute_reply": "2025-10-08T00:38:07.410039Z"
    },
    "papermill": {
     "duration": 0.346978,
     "end_time": "2025-10-08T00:38:07.412659",
     "exception": false,
     "start_time": "2025-10-08T00:38:07.065681",
     "status": "completed"
    },
    "tags": []
   },
   "outputs": [
    {
     "data": {
      "text/html": [
       "<style>#sk-container-id-2 {color: black;background-color: white;}#sk-container-id-2 pre{padding: 0;}#sk-container-id-2 div.sk-toggleable {background-color: white;}#sk-container-id-2 label.sk-toggleable__label {cursor: pointer;display: block;width: 100%;margin-bottom: 0;padding: 0.3em;box-sizing: border-box;text-align: center;}#sk-container-id-2 label.sk-toggleable__label-arrow:before {content: \"▸\";float: left;margin-right: 0.25em;color: #696969;}#sk-container-id-2 label.sk-toggleable__label-arrow:hover:before {color: black;}#sk-container-id-2 div.sk-estimator:hover label.sk-toggleable__label-arrow:before {color: black;}#sk-container-id-2 div.sk-toggleable__content {max-height: 0;max-width: 0;overflow: hidden;text-align: left;background-color: #f0f8ff;}#sk-container-id-2 div.sk-toggleable__content pre {margin: 0.2em;color: black;border-radius: 0.25em;background-color: #f0f8ff;}#sk-container-id-2 input.sk-toggleable__control:checked~div.sk-toggleable__content {max-height: 200px;max-width: 100%;overflow: auto;}#sk-container-id-2 input.sk-toggleable__control:checked~label.sk-toggleable__label-arrow:before {content: \"▾\";}#sk-container-id-2 div.sk-estimator input.sk-toggleable__control:checked~label.sk-toggleable__label {background-color: #d4ebff;}#sk-container-id-2 div.sk-label input.sk-toggleable__control:checked~label.sk-toggleable__label {background-color: #d4ebff;}#sk-container-id-2 input.sk-hidden--visually {border: 0;clip: rect(1px 1px 1px 1px);clip: rect(1px, 1px, 1px, 1px);height: 1px;margin: -1px;overflow: hidden;padding: 0;position: absolute;width: 1px;}#sk-container-id-2 div.sk-estimator {font-family: monospace;background-color: #f0f8ff;border: 1px dotted black;border-radius: 0.25em;box-sizing: border-box;margin-bottom: 0.5em;}#sk-container-id-2 div.sk-estimator:hover {background-color: #d4ebff;}#sk-container-id-2 div.sk-parallel-item::after {content: \"\";width: 100%;border-bottom: 1px solid gray;flex-grow: 1;}#sk-container-id-2 div.sk-label:hover label.sk-toggleable__label {background-color: #d4ebff;}#sk-container-id-2 div.sk-serial::before {content: \"\";position: absolute;border-left: 1px solid gray;box-sizing: border-box;top: 0;bottom: 0;left: 50%;z-index: 0;}#sk-container-id-2 div.sk-serial {display: flex;flex-direction: column;align-items: center;background-color: white;padding-right: 0.2em;padding-left: 0.2em;position: relative;}#sk-container-id-2 div.sk-item {position: relative;z-index: 1;}#sk-container-id-2 div.sk-parallel {display: flex;align-items: stretch;justify-content: center;background-color: white;position: relative;}#sk-container-id-2 div.sk-item::before, #sk-container-id-2 div.sk-parallel-item::before {content: \"\";position: absolute;border-left: 1px solid gray;box-sizing: border-box;top: 0;bottom: 0;left: 50%;z-index: -1;}#sk-container-id-2 div.sk-parallel-item {display: flex;flex-direction: column;z-index: 1;position: relative;background-color: white;}#sk-container-id-2 div.sk-parallel-item:first-child::after {align-self: flex-end;width: 50%;}#sk-container-id-2 div.sk-parallel-item:last-child::after {align-self: flex-start;width: 50%;}#sk-container-id-2 div.sk-parallel-item:only-child::after {width: 0;}#sk-container-id-2 div.sk-dashed-wrapped {border: 1px dashed gray;margin: 0 0.4em 0.5em 0.4em;box-sizing: border-box;padding-bottom: 0.4em;background-color: white;}#sk-container-id-2 div.sk-label label {font-family: monospace;font-weight: bold;display: inline-block;line-height: 1.2em;}#sk-container-id-2 div.sk-label-container {text-align: center;}#sk-container-id-2 div.sk-container {/* jupyter's `normalize.less` sets `[hidden] { display: none; }` but bootstrap.min.css set `[hidden] { display: none !important; }` so we also need the `!important` here to be able to override the default hidden behavior on the sphinx rendered scikit-learn.org. See: https://github.com/scikit-learn/scikit-learn/issues/21755 */display: inline-block !important;position: relative;}#sk-container-id-2 div.sk-text-repr-fallback {display: none;}</style><div id=\"sk-container-id-2\" class=\"sk-top-container\"><div class=\"sk-text-repr-fallback\"><pre>LogisticRegression()</pre><b>In a Jupyter environment, please rerun this cell to show the HTML representation or trust the notebook. <br />On GitHub, the HTML representation is unable to render, please try loading this page with nbviewer.org.</b></div><div class=\"sk-container\" hidden><div class=\"sk-item\"><div class=\"sk-estimator sk-toggleable\"><input class=\"sk-toggleable__control sk-hidden--visually\" id=\"sk-estimator-id-2\" type=\"checkbox\" checked><label for=\"sk-estimator-id-2\" class=\"sk-toggleable__label sk-toggleable__label-arrow\">LogisticRegression</label><div class=\"sk-toggleable__content\"><pre>LogisticRegression()</pre></div></div></div></div></div>"
      ],
      "text/plain": [
       "LogisticRegression()"
      ]
     },
     "execution_count": 43,
     "metadata": {},
     "output_type": "execute_result"
    }
   ],
   "source": [
    "loreg.fit(X_train, y_train)"
   ]
  },
  {
   "cell_type": "code",
   "execution_count": 44,
   "id": "830fa638",
   "metadata": {
    "execution": {
     "iopub.execute_input": "2025-10-08T00:38:07.448684Z",
     "iopub.status.busy": "2025-10-08T00:38:07.448348Z",
     "iopub.status.idle": "2025-10-08T00:38:07.454675Z",
     "shell.execute_reply": "2025-10-08T00:38:07.453936Z"
    },
    "papermill": {
     "duration": 0.026074,
     "end_time": "2025-10-08T00:38:07.456261",
     "exception": false,
     "start_time": "2025-10-08T00:38:07.430187",
     "status": "completed"
    },
    "tags": []
   },
   "outputs": [],
   "source": [
    "y_pred = loreg.predict(X_test)"
   ]
  },
  {
   "cell_type": "code",
   "execution_count": 45,
   "id": "1db3d8d2",
   "metadata": {
    "execution": {
     "iopub.execute_input": "2025-10-08T00:38:07.492584Z",
     "iopub.status.busy": "2025-10-08T00:38:07.492041Z",
     "iopub.status.idle": "2025-10-08T00:38:07.513037Z",
     "shell.execute_reply": "2025-10-08T00:38:07.512197Z"
    },
    "papermill": {
     "duration": 0.040739,
     "end_time": "2025-10-08T00:38:07.514715",
     "exception": false,
     "start_time": "2025-10-08T00:38:07.473976",
     "status": "completed"
    },
    "tags": []
   },
   "outputs": [
    {
     "name": "stdout",
     "output_type": "stream",
     "text": [
      "              precision    recall  f1-score   support\n",
      "\n",
      "           0       0.96      0.96      0.96      1453\n",
      "           1       0.96      0.96      0.96      1591\n",
      "\n",
      "    accuracy                           0.96      3044\n",
      "   macro avg       0.96      0.96      0.96      3044\n",
      "weighted avg       0.96      0.96      0.96      3044\n",
      "\n"
     ]
    }
   ],
   "source": [
    "print(classification_report(y_test, y_pred))"
   ]
  },
  {
   "cell_type": "code",
   "execution_count": 46,
   "id": "12090910",
   "metadata": {
    "execution": {
     "iopub.execute_input": "2025-10-08T00:38:07.538823Z",
     "iopub.status.busy": "2025-10-08T00:38:07.538532Z",
     "iopub.status.idle": "2025-10-08T00:38:07.546700Z",
     "shell.execute_reply": "2025-10-08T00:38:07.545724Z"
    },
    "papermill": {
     "duration": 0.02111,
     "end_time": "2025-10-08T00:38:07.548217",
     "exception": false,
     "start_time": "2025-10-08T00:38:07.527107",
     "status": "completed"
    },
    "tags": []
   },
   "outputs": [
    {
     "data": {
      "text/plain": [
       "array([[1395,   58],\n",
       "       [  64, 1527]])"
      ]
     },
     "execution_count": 46,
     "metadata": {},
     "output_type": "execute_result"
    }
   ],
   "source": [
    "confusion_matrix(y_test, y_pred)"
   ]
  },
  {
   "cell_type": "code",
   "execution_count": 47,
   "id": "95debb01",
   "metadata": {
    "execution": {
     "iopub.execute_input": "2025-10-08T00:38:07.570951Z",
     "iopub.status.busy": "2025-10-08T00:38:07.570317Z",
     "iopub.status.idle": "2025-10-08T00:38:07.577631Z",
     "shell.execute_reply": "2025-10-08T00:38:07.576823Z"
    },
    "papermill": {
     "duration": 0.020134,
     "end_time": "2025-10-08T00:38:07.579191",
     "exception": false,
     "start_time": "2025-10-08T00:38:07.559057",
     "status": "completed"
    },
    "tags": []
   },
   "outputs": [],
   "source": [
    "# prepare test dataset\n",
    "\n",
    "def preprocess(text):\n",
    "    text = text.lower()\n",
    "    text = re.sub(r'http\\S+', '', text)  # remove URLs\n",
    "    text = re.sub(r'[^a-z\\s]', '', text) # keep only letters\n",
    "    tokens = word_tokenize(text)\n",
    "    tokens = [w for w in tokens if w not in stopwords.words('english')]  # remove stop words\n",
    "    return ' '.join(tokens)   \n",
    "\n",
    "# split dataset into two\n",
    "def build_dataset(df):\n",
    "\n",
    "    columns_name = [col for col in df.keys() if col.startswith(('pos', 'neg'))]\n",
    "\n",
    "    # first dataset\n",
    "    df = df.drop('row_id', axis=1)\n",
    "    df = df.drop(columns_name, axis=1)\n",
    "    df['body'] = df['body'].apply(preprocess)\n",
    "    sia = SentimentIntensityAnalyzer()\n",
    "    df['sentiment'] = df['body'].apply(lambda x: sia.polarity_scores(x)['compound'])\n",
    "    df['body'] = df['body'] + ' ' + df['subreddit']\n",
    "    df = df.drop('subreddit', axis=1)\n",
    "    df = pd.get_dummies(df, columns=['rule'])\n",
    "    return df\n",
    "\n",
    "    # # second dataset\n",
    "    # pos_eg = df[['positive_example_1', 'positive_example_2']].values.flatten()\n",
    "    # neg_eg = df[['negative_example_1', 'negative_example_2']].values.flatten()\n",
    "    # df_eg = pd.DataFrame({\n",
    "    #     'body': list(pos_eg) + list(neg_eg),\n",
    "    #     'rule_violation': [1] * len(pos_eg) + [0] * len(neg_eg)\n",
    "    # })\n",
    "    # df_eg['body'] = df_eg['body'].apply(preprocess)\n",
    "    # df_eg['sentiment'] = df_eg['body'].apply(lambda x: sia.polarity_scores(x)['compound'])\n",
    "    # df_eg['rule'] = None\n",
    "\n",
    "    # # merge dataset\n",
    "    # return pd.concat([df1, df_eg], ignore_index = True)\n"
   ]
  },
  {
   "cell_type": "code",
   "execution_count": 48,
   "id": "88e816b1",
   "metadata": {
    "execution": {
     "iopub.execute_input": "2025-10-08T00:38:07.602882Z",
     "iopub.status.busy": "2025-10-08T00:38:07.602058Z",
     "iopub.status.idle": "2025-10-08T00:38:07.634770Z",
     "shell.execute_reply": "2025-10-08T00:38:07.634027Z"
    },
    "papermill": {
     "duration": 0.046443,
     "end_time": "2025-10-08T00:38:07.636377",
     "exception": false,
     "start_time": "2025-10-08T00:38:07.589934",
     "status": "completed"
    },
    "tags": []
   },
   "outputs": [],
   "source": [
    "X_submit = build_dataset(test)"
   ]
  },
  {
   "cell_type": "code",
   "execution_count": 49,
   "id": "fc34b532",
   "metadata": {
    "execution": {
     "iopub.execute_input": "2025-10-08T00:38:07.659580Z",
     "iopub.status.busy": "2025-10-08T00:38:07.659247Z",
     "iopub.status.idle": "2025-10-08T00:38:07.670175Z",
     "shell.execute_reply": "2025-10-08T00:38:07.669295Z"
    },
    "papermill": {
     "duration": 0.023557,
     "end_time": "2025-10-08T00:38:07.671514",
     "exception": false,
     "start_time": "2025-10-08T00:38:07.647957",
     "status": "completed"
    },
    "tags": []
   },
   "outputs": [
    {
     "data": {
      "text/html": [
       "<div>\n",
       "<style scoped>\n",
       "    .dataframe tbody tr th:only-of-type {\n",
       "        vertical-align: middle;\n",
       "    }\n",
       "\n",
       "    .dataframe tbody tr th {\n",
       "        vertical-align: top;\n",
       "    }\n",
       "\n",
       "    .dataframe thead th {\n",
       "        text-align: right;\n",
       "    }\n",
       "</style>\n",
       "<table border=\"1\" class=\"dataframe\">\n",
       "  <thead>\n",
       "    <tr style=\"text-align: right;\">\n",
       "      <th></th>\n",
       "      <th>body</th>\n",
       "      <th>sentiment</th>\n",
       "      <th>rule_No Advertising: Spam, referral links, unsolicited advertising, and promotional content are not allowed.</th>\n",
       "      <th>rule_No legal advice: Do not offer or request legal advice.</th>\n",
       "    </tr>\n",
       "  </thead>\n",
       "  <tbody>\n",
       "    <tr>\n",
       "      <th>0</th>\n",
       "      <td>new rap group check us hiphopheads</td>\n",
       "      <td>0.0000</td>\n",
       "      <td>True</td>\n",
       "      <td>False</td>\n",
       "    </tr>\n",
       "    <tr>\n",
       "      <th>1</th>\n",
       "      <td>make life comfortable get discount pain killer...</td>\n",
       "      <td>-0.8481</td>\n",
       "      <td>False</td>\n",
       "      <td>True</td>\n",
       "    </tr>\n",
       "    <tr>\n",
       "      <th>2</th>\n",
       "      <td>kickin ass selling underwear made account last...</td>\n",
       "      <td>-0.5423</td>\n",
       "      <td>True</td>\n",
       "      <td>False</td>\n",
       "    </tr>\n",
       "    <tr>\n",
       "      <th>3</th>\n",
       "      <td>watch hooters best therein personalfinance</td>\n",
       "      <td>0.6369</td>\n",
       "      <td>True</td>\n",
       "      <td>False</td>\n",
       "    </tr>\n",
       "    <tr>\n",
       "      <th>4</th>\n",
       "      <td>bitches free point show Showerthoughts</td>\n",
       "      <td>-0.1531</td>\n",
       "      <td>True</td>\n",
       "      <td>False</td>\n",
       "    </tr>\n",
       "    <tr>\n",
       "      <th>5</th>\n",
       "      <td>top pentakills august please subscribe every d...</td>\n",
       "      <td>0.4767</td>\n",
       "      <td>True</td>\n",
       "      <td>False</td>\n",
       "    </tr>\n",
       "    <tr>\n",
       "      <th>6</th>\n",
       "      <td>win samsung smartwatch enter email adress foll...</td>\n",
       "      <td>0.9062</td>\n",
       "      <td>True</td>\n",
       "      <td>False</td>\n",
       "    </tr>\n",
       "    <tr>\n",
       "      <th>7</th>\n",
       "      <td>mixtape lit fam BlackPeopleTwitter</td>\n",
       "      <td>0.0000</td>\n",
       "      <td>True</td>\n",
       "      <td>False</td>\n",
       "    </tr>\n",
       "    <tr>\n",
       "      <th>8</th>\n",
       "      <td>must watch movie movies</td>\n",
       "      <td>0.0000</td>\n",
       "      <td>True</td>\n",
       "      <td>False</td>\n",
       "    </tr>\n",
       "    <tr>\n",
       "      <th>9</th>\n",
       "      <td>free paypal cards pics</td>\n",
       "      <td>0.5106</td>\n",
       "      <td>True</td>\n",
       "      <td>False</td>\n",
       "    </tr>\n",
       "  </tbody>\n",
       "</table>\n",
       "</div>"
      ],
      "text/plain": [
       "                                                body  sentiment  \\\n",
       "0                 new rap group check us hiphopheads     0.0000   \n",
       "1  make life comfortable get discount pain killer...    -0.8481   \n",
       "2  kickin ass selling underwear made account last...    -0.5423   \n",
       "3         watch hooters best therein personalfinance     0.6369   \n",
       "4             bitches free point show Showerthoughts    -0.1531   \n",
       "5  top pentakills august please subscribe every d...     0.4767   \n",
       "6  win samsung smartwatch enter email adress foll...     0.9062   \n",
       "7                 mixtape lit fam BlackPeopleTwitter     0.0000   \n",
       "8                            must watch movie movies     0.0000   \n",
       "9                             free paypal cards pics     0.5106   \n",
       "\n",
       "   rule_No Advertising: Spam, referral links, unsolicited advertising, and promotional content are not allowed.  \\\n",
       "0                                               True                                                              \n",
       "1                                              False                                                              \n",
       "2                                               True                                                              \n",
       "3                                               True                                                              \n",
       "4                                               True                                                              \n",
       "5                                               True                                                              \n",
       "6                                               True                                                              \n",
       "7                                               True                                                              \n",
       "8                                               True                                                              \n",
       "9                                               True                                                              \n",
       "\n",
       "   rule_No legal advice: Do not offer or request legal advice.  \n",
       "0                                              False            \n",
       "1                                               True            \n",
       "2                                              False            \n",
       "3                                              False            \n",
       "4                                              False            \n",
       "5                                              False            \n",
       "6                                              False            \n",
       "7                                              False            \n",
       "8                                              False            \n",
       "9                                              False            "
      ]
     },
     "execution_count": 49,
     "metadata": {},
     "output_type": "execute_result"
    }
   ],
   "source": [
    "X_submit"
   ]
  },
  {
   "cell_type": "code",
   "execution_count": 50,
   "id": "825e9e87",
   "metadata": {
    "execution": {
     "iopub.execute_input": "2025-10-08T00:38:07.694426Z",
     "iopub.status.busy": "2025-10-08T00:38:07.694093Z",
     "iopub.status.idle": "2025-10-08T00:38:07.700082Z",
     "shell.execute_reply": "2025-10-08T00:38:07.699354Z"
    },
    "papermill": {
     "duration": 0.018962,
     "end_time": "2025-10-08T00:38:07.701426",
     "exception": false,
     "start_time": "2025-10-08T00:38:07.682464",
     "status": "completed"
    },
    "tags": []
   },
   "outputs": [],
   "source": [
    "X_submit_transform = tfdif.transform(X_submit['body'])"
   ]
  },
  {
   "cell_type": "code",
   "execution_count": 51,
   "id": "9efa1612",
   "metadata": {
    "execution": {
     "iopub.execute_input": "2025-10-08T00:38:07.724528Z",
     "iopub.status.busy": "2025-10-08T00:38:07.724198Z",
     "iopub.status.idle": "2025-10-08T00:38:07.728465Z",
     "shell.execute_reply": "2025-10-08T00:38:07.727735Z"
    },
    "papermill": {
     "duration": 0.017432,
     "end_time": "2025-10-08T00:38:07.729869",
     "exception": false,
     "start_time": "2025-10-08T00:38:07.712437",
     "status": "completed"
    },
    "tags": []
   },
   "outputs": [],
   "source": [
    "y_pred = loreg.predict(X_submit_transform)"
   ]
  },
  {
   "cell_type": "code",
   "execution_count": 52,
   "id": "f26a5290",
   "metadata": {
    "execution": {
     "iopub.execute_input": "2025-10-08T00:38:07.753456Z",
     "iopub.status.busy": "2025-10-08T00:38:07.752835Z",
     "iopub.status.idle": "2025-10-08T00:38:07.757457Z",
     "shell.execute_reply": "2025-10-08T00:38:07.756659Z"
    },
    "papermill": {
     "duration": 0.017722,
     "end_time": "2025-10-08T00:38:07.759015",
     "exception": false,
     "start_time": "2025-10-08T00:38:07.741293",
     "status": "completed"
    },
    "tags": []
   },
   "outputs": [],
   "source": [
    "y_submit = pd.DataFrame({\n",
    "    'row_id': test['row_id'],\n",
    "    'rule_violation': y_pred\n",
    "})"
   ]
  },
  {
   "cell_type": "code",
   "execution_count": 53,
   "id": "58b5974f",
   "metadata": {
    "execution": {
     "iopub.execute_input": "2025-10-08T00:38:07.781328Z",
     "iopub.status.busy": "2025-10-08T00:38:07.781059Z",
     "iopub.status.idle": "2025-10-08T00:38:07.788346Z",
     "shell.execute_reply": "2025-10-08T00:38:07.787649Z"
    },
    "papermill": {
     "duration": 0.019928,
     "end_time": "2025-10-08T00:38:07.789672",
     "exception": false,
     "start_time": "2025-10-08T00:38:07.769744",
     "status": "completed"
    },
    "tags": []
   },
   "outputs": [
    {
     "data": {
      "text/html": [
       "<div>\n",
       "<style scoped>\n",
       "    .dataframe tbody tr th:only-of-type {\n",
       "        vertical-align: middle;\n",
       "    }\n",
       "\n",
       "    .dataframe tbody tr th {\n",
       "        vertical-align: top;\n",
       "    }\n",
       "\n",
       "    .dataframe thead th {\n",
       "        text-align: right;\n",
       "    }\n",
       "</style>\n",
       "<table border=\"1\" class=\"dataframe\">\n",
       "  <thead>\n",
       "    <tr style=\"text-align: right;\">\n",
       "      <th></th>\n",
       "      <th>row_id</th>\n",
       "      <th>rule_violation</th>\n",
       "    </tr>\n",
       "  </thead>\n",
       "  <tbody>\n",
       "    <tr>\n",
       "      <th>0</th>\n",
       "      <td>2029</td>\n",
       "      <td>0</td>\n",
       "    </tr>\n",
       "    <tr>\n",
       "      <th>1</th>\n",
       "      <td>2030</td>\n",
       "      <td>0</td>\n",
       "    </tr>\n",
       "    <tr>\n",
       "      <th>2</th>\n",
       "      <td>2031</td>\n",
       "      <td>1</td>\n",
       "    </tr>\n",
       "    <tr>\n",
       "      <th>3</th>\n",
       "      <td>2032</td>\n",
       "      <td>1</td>\n",
       "    </tr>\n",
       "    <tr>\n",
       "      <th>4</th>\n",
       "      <td>2033</td>\n",
       "      <td>1</td>\n",
       "    </tr>\n",
       "    <tr>\n",
       "      <th>5</th>\n",
       "      <td>2034</td>\n",
       "      <td>0</td>\n",
       "    </tr>\n",
       "    <tr>\n",
       "      <th>6</th>\n",
       "      <td>2035</td>\n",
       "      <td>1</td>\n",
       "    </tr>\n",
       "    <tr>\n",
       "      <th>7</th>\n",
       "      <td>2036</td>\n",
       "      <td>0</td>\n",
       "    </tr>\n",
       "    <tr>\n",
       "      <th>8</th>\n",
       "      <td>2037</td>\n",
       "      <td>0</td>\n",
       "    </tr>\n",
       "    <tr>\n",
       "      <th>9</th>\n",
       "      <td>2038</td>\n",
       "      <td>1</td>\n",
       "    </tr>\n",
       "  </tbody>\n",
       "</table>\n",
       "</div>"
      ],
      "text/plain": [
       "   row_id  rule_violation\n",
       "0    2029               0\n",
       "1    2030               0\n",
       "2    2031               1\n",
       "3    2032               1\n",
       "4    2033               1\n",
       "5    2034               0\n",
       "6    2035               1\n",
       "7    2036               0\n",
       "8    2037               0\n",
       "9    2038               1"
      ]
     },
     "execution_count": 53,
     "metadata": {},
     "output_type": "execute_result"
    }
   ],
   "source": [
    "y_submit"
   ]
  },
  {
   "cell_type": "code",
   "execution_count": 54,
   "id": "eb16801b",
   "metadata": {
    "execution": {
     "iopub.execute_input": "2025-10-08T00:38:07.812824Z",
     "iopub.status.busy": "2025-10-08T00:38:07.812269Z",
     "iopub.status.idle": "2025-10-08T00:38:07.821494Z",
     "shell.execute_reply": "2025-10-08T00:38:07.820631Z"
    },
    "papermill": {
     "duration": 0.022343,
     "end_time": "2025-10-08T00:38:07.822951",
     "exception": false,
     "start_time": "2025-10-08T00:38:07.800608",
     "status": "completed"
    },
    "tags": []
   },
   "outputs": [],
   "source": [
    "y_submit.to_csv('/kaggle/working/submission.csv')"
   ]
  }
 ],
 "metadata": {
  "kaggle": {
   "accelerator": "none",
   "dataSources": [
    {
     "databundleVersionId": 13121456,
     "sourceId": 94635,
     "sourceType": "competition"
    }
   ],
   "dockerImageVersionId": 31153,
   "isGpuEnabled": false,
   "isInternetEnabled": true,
   "language": "python",
   "sourceType": "notebook"
  },
  "kernelspec": {
   "display_name": "Python 3",
   "language": "python",
   "name": "python3"
  },
  "language_info": {
   "codemirror_mode": {
    "name": "ipython",
    "version": 3
   },
   "file_extension": ".py",
   "mimetype": "text/x-python",
   "name": "python",
   "nbconvert_exporter": "python",
   "pygments_lexer": "ipython3",
   "version": "3.11.13"
  },
  "papermill": {
   "default_parameters": {},
   "duration": 37.208304,
   "end_time": "2025-10-08T00:38:08.554996",
   "environment_variables": {},
   "exception": null,
   "input_path": "__notebook__.ipynb",
   "output_path": "__notebook__.ipynb",
   "parameters": {},
   "start_time": "2025-10-08T00:37:31.346692",
   "version": "2.6.0"
  }
 },
 "nbformat": 4,
 "nbformat_minor": 5
}
